{
 "cells": [
  {
   "cell_type": "code",
   "execution_count": 1,
   "metadata": {},
   "outputs": [],
   "source": [
    "import pandas as pd\n",
    "import numpy as np"
   ]
  },
  {
   "cell_type": "code",
   "execution_count": 2,
   "metadata": {},
   "outputs": [
    {
     "data": {
      "text/html": [
       "<div>\n",
       "<style scoped>\n",
       "    .dataframe tbody tr th:only-of-type {\n",
       "        vertical-align: middle;\n",
       "    }\n",
       "\n",
       "    .dataframe tbody tr th {\n",
       "        vertical-align: top;\n",
       "    }\n",
       "\n",
       "    .dataframe thead th {\n",
       "        text-align: right;\n",
       "    }\n",
       "</style>\n",
       "<table border=\"1\" class=\"dataframe\">\n",
       "  <thead>\n",
       "    <tr style=\"text-align: right;\">\n",
       "      <th></th>\n",
       "      <th>A</th>\n",
       "      <th>B</th>\n",
       "      <th>C</th>\n",
       "    </tr>\n",
       "  </thead>\n",
       "  <tbody>\n",
       "    <tr>\n",
       "      <th>0</th>\n",
       "      <td>10</td>\n",
       "      <td>1</td>\n",
       "      <td>NaN</td>\n",
       "    </tr>\n",
       "    <tr>\n",
       "      <th>1</th>\n",
       "      <td>8</td>\n",
       "      <td>2</td>\n",
       "      <td>b</td>\n",
       "    </tr>\n",
       "    <tr>\n",
       "      <th>2</th>\n",
       "      <td>6</td>\n",
       "      <td>3</td>\n",
       "      <td>c</td>\n",
       "    </tr>\n",
       "    <tr>\n",
       "      <th>3</th>\n",
       "      <td>4</td>\n",
       "      <td>4</td>\n",
       "      <td>d</td>\n",
       "    </tr>\n",
       "    <tr>\n",
       "      <th>4</th>\n",
       "      <td>2</td>\n",
       "      <td>5</td>\n",
       "      <td>None</td>\n",
       "    </tr>\n",
       "  </tbody>\n",
       "</table>\n",
       "</div>"
      ],
      "text/plain": [
       "    A  B     C\n",
       "0  10  1   NaN\n",
       "1   8  2     b\n",
       "2   6  3     c\n",
       "3   4  4     d\n",
       "4   2  5  None"
      ]
     },
     "execution_count": 2,
     "metadata": {},
     "output_type": "execute_result"
    }
   ],
   "source": [
    "df = pd.DataFrame({\"A\": range(10, 0, -2), \"B\": range(1, 6), \"C\": [np.NaN, \"b\", \"c\", \"d\", None]})\n",
    "df"
   ]
  },
  {
   "cell_type": "code",
   "execution_count": 3,
   "metadata": {},
   "outputs": [
    {
     "data": {
      "text/html": [
       "<div>\n",
       "<style scoped>\n",
       "    .dataframe tbody tr th:only-of-type {\n",
       "        vertical-align: middle;\n",
       "    }\n",
       "\n",
       "    .dataframe tbody tr th {\n",
       "        vertical-align: top;\n",
       "    }\n",
       "\n",
       "    .dataframe thead th {\n",
       "        text-align: right;\n",
       "    }\n",
       "</style>\n",
       "<table border=\"1\" class=\"dataframe\">\n",
       "  <thead>\n",
       "    <tr style=\"text-align: right;\">\n",
       "      <th></th>\n",
       "      <th>A</th>\n",
       "      <th>B</th>\n",
       "      <th>C</th>\n",
       "    </tr>\n",
       "  </thead>\n",
       "  <tbody>\n",
       "    <tr>\n",
       "      <th>0</th>\n",
       "      <td>False</td>\n",
       "      <td>False</td>\n",
       "      <td>True</td>\n",
       "    </tr>\n",
       "    <tr>\n",
       "      <th>1</th>\n",
       "      <td>False</td>\n",
       "      <td>False</td>\n",
       "      <td>False</td>\n",
       "    </tr>\n",
       "    <tr>\n",
       "      <th>2</th>\n",
       "      <td>False</td>\n",
       "      <td>False</td>\n",
       "      <td>False</td>\n",
       "    </tr>\n",
       "    <tr>\n",
       "      <th>3</th>\n",
       "      <td>False</td>\n",
       "      <td>False</td>\n",
       "      <td>False</td>\n",
       "    </tr>\n",
       "    <tr>\n",
       "      <th>4</th>\n",
       "      <td>False</td>\n",
       "      <td>False</td>\n",
       "      <td>True</td>\n",
       "    </tr>\n",
       "  </tbody>\n",
       "</table>\n",
       "</div>"
      ],
      "text/plain": [
       "       A      B      C\n",
       "0  False  False   True\n",
       "1  False  False  False\n",
       "2  False  False  False\n",
       "3  False  False  False\n",
       "4  False  False   True"
      ]
     },
     "execution_count": 3,
     "metadata": {},
     "output_type": "execute_result"
    }
   ],
   "source": [
    "df.isnull()"
   ]
  },
  {
   "cell_type": "code",
   "execution_count": 4,
   "metadata": {},
   "outputs": [
    {
     "data": {
      "text/html": [
       "<div>\n",
       "<style scoped>\n",
       "    .dataframe tbody tr th:only-of-type {\n",
       "        vertical-align: middle;\n",
       "    }\n",
       "\n",
       "    .dataframe tbody tr th {\n",
       "        vertical-align: top;\n",
       "    }\n",
       "\n",
       "    .dataframe thead th {\n",
       "        text-align: right;\n",
       "    }\n",
       "</style>\n",
       "<table border=\"1\" class=\"dataframe\">\n",
       "  <thead>\n",
       "    <tr style=\"text-align: right;\">\n",
       "      <th></th>\n",
       "      <th>A</th>\n",
       "      <th>B</th>\n",
       "      <th>C</th>\n",
       "    </tr>\n",
       "  </thead>\n",
       "  <tbody>\n",
       "    <tr>\n",
       "      <th>0</th>\n",
       "      <td>10</td>\n",
       "      <td>1</td>\n",
       "      <td>Seb</td>\n",
       "    </tr>\n",
       "    <tr>\n",
       "      <th>1</th>\n",
       "      <td>8</td>\n",
       "      <td>2</td>\n",
       "      <td>b</td>\n",
       "    </tr>\n",
       "    <tr>\n",
       "      <th>2</th>\n",
       "      <td>6</td>\n",
       "      <td>3</td>\n",
       "      <td>c</td>\n",
       "    </tr>\n",
       "    <tr>\n",
       "      <th>3</th>\n",
       "      <td>4</td>\n",
       "      <td>4</td>\n",
       "      <td>d</td>\n",
       "    </tr>\n",
       "    <tr>\n",
       "      <th>4</th>\n",
       "      <td>2</td>\n",
       "      <td>5</td>\n",
       "      <td>Seb</td>\n",
       "    </tr>\n",
       "  </tbody>\n",
       "</table>\n",
       "</div>"
      ],
      "text/plain": [
       "    A  B    C\n",
       "0  10  1  Seb\n",
       "1   8  2    b\n",
       "2   6  3    c\n",
       "3   4  4    d\n",
       "4   2  5  Seb"
      ]
     },
     "execution_count": 4,
     "metadata": {},
     "output_type": "execute_result"
    }
   ],
   "source": [
    "#  filling null values\n",
    "df.fillna(\"Seb\")"
   ]
  },
  {
   "cell_type": "code",
   "execution_count": 5,
   "metadata": {},
   "outputs": [
    {
     "data": {
      "text/html": [
       "<div>\n",
       "<style scoped>\n",
       "    .dataframe tbody tr th:only-of-type {\n",
       "        vertical-align: middle;\n",
       "    }\n",
       "\n",
       "    .dataframe tbody tr th {\n",
       "        vertical-align: top;\n",
       "    }\n",
       "\n",
       "    .dataframe thead th {\n",
       "        text-align: right;\n",
       "    }\n",
       "</style>\n",
       "<table border=\"1\" class=\"dataframe\">\n",
       "  <thead>\n",
       "    <tr style=\"text-align: right;\">\n",
       "      <th></th>\n",
       "      <th>A</th>\n",
       "      <th>B</th>\n",
       "      <th>C</th>\n",
       "    </tr>\n",
       "  </thead>\n",
       "  <tbody>\n",
       "    <tr>\n",
       "      <th>0</th>\n",
       "      <td>10</td>\n",
       "      <td>1</td>\n",
       "      <td>a</td>\n",
       "    </tr>\n",
       "    <tr>\n",
       "      <th>1</th>\n",
       "      <td>8</td>\n",
       "      <td>2</td>\n",
       "      <td>a</td>\n",
       "    </tr>\n",
       "    <tr>\n",
       "      <th>2</th>\n",
       "      <td>6</td>\n",
       "      <td>3</td>\n",
       "      <td>c</td>\n",
       "    </tr>\n",
       "    <tr>\n",
       "      <th>3</th>\n",
       "      <td>4</td>\n",
       "      <td>4</td>\n",
       "      <td>c</td>\n",
       "    </tr>\n",
       "    <tr>\n",
       "      <th>4</th>\n",
       "      <td>2</td>\n",
       "      <td>5</td>\n",
       "      <td>d</td>\n",
       "    </tr>\n",
       "  </tbody>\n",
       "</table>\n",
       "</div>"
      ],
      "text/plain": [
       "    A  B  C\n",
       "0  10  1  a\n",
       "1   8  2  a\n",
       "2   6  3  c\n",
       "3   4  4  c\n",
       "4   2  5  d"
      ]
     },
     "execution_count": 5,
     "metadata": {},
     "output_type": "execute_result"
    }
   ],
   "source": [
    "df = pd.DataFrame({\"A\": range(10, 0, -2), \"B\": range(1, 6), \"C\": [\"a\", \"a\", \"c\", \"c\", \"d\"]})\n",
    "df"
   ]
  },
  {
   "cell_type": "code",
   "execution_count": 6,
   "metadata": {},
   "outputs": [
    {
     "data": {
      "text/plain": [
       "C\n",
       "a    9.0\n",
       "c    5.0\n",
       "d    2.0\n",
       "Name: A, dtype: float64"
      ]
     },
     "execution_count": 6,
     "metadata": {},
     "output_type": "execute_result"
    }
   ],
   "source": [
    "df.groupby(\"C\")[\"A\"].mean()"
   ]
  },
  {
   "cell_type": "code",
   "execution_count": 7,
   "metadata": {},
   "outputs": [
    {
     "data": {
      "text/plain": [
       "5"
      ]
     },
     "execution_count": 7,
     "metadata": {},
     "output_type": "execute_result"
    }
   ],
   "source": [
    "df.loc[4, \"B\"]"
   ]
  },
  {
   "cell_type": "code",
   "execution_count": 8,
   "metadata": {},
   "outputs": [
    {
     "data": {
      "text/html": [
       "<div>\n",
       "<style scoped>\n",
       "    .dataframe tbody tr th:only-of-type {\n",
       "        vertical-align: middle;\n",
       "    }\n",
       "\n",
       "    .dataframe tbody tr th {\n",
       "        vertical-align: top;\n",
       "    }\n",
       "\n",
       "    .dataframe thead th {\n",
       "        text-align: right;\n",
       "    }\n",
       "</style>\n",
       "<table border=\"1\" class=\"dataframe\">\n",
       "  <thead>\n",
       "    <tr style=\"text-align: right;\">\n",
       "      <th></th>\n",
       "      <th>A</th>\n",
       "      <th>B</th>\n",
       "      <th>C</th>\n",
       "    </tr>\n",
       "  </thead>\n",
       "  <tbody>\n",
       "    <tr>\n",
       "      <th>0</th>\n",
       "      <td>10</td>\n",
       "      <td>1</td>\n",
       "      <td>a</td>\n",
       "    </tr>\n",
       "    <tr>\n",
       "      <th>1</th>\n",
       "      <td>8</td>\n",
       "      <td>2</td>\n",
       "      <td>a</td>\n",
       "    </tr>\n",
       "    <tr>\n",
       "      <th>2</th>\n",
       "      <td>6</td>\n",
       "      <td>3</td>\n",
       "      <td>c</td>\n",
       "    </tr>\n",
       "    <tr>\n",
       "      <th>3</th>\n",
       "      <td>4</td>\n",
       "      <td>4</td>\n",
       "      <td>c</td>\n",
       "    </tr>\n",
       "    <tr>\n",
       "      <th>4</th>\n",
       "      <td>2</td>\n",
       "      <td>5</td>\n",
       "      <td>d</td>\n",
       "    </tr>\n",
       "  </tbody>\n",
       "</table>\n",
       "</div>"
      ],
      "text/plain": [
       "    A  B  C\n",
       "0  10  1  a\n",
       "1   8  2  a\n",
       "2   6  3  c\n",
       "3   4  4  c\n",
       "4   2  5  d"
      ]
     },
     "execution_count": 8,
     "metadata": {},
     "output_type": "execute_result"
    }
   ],
   "source": [
    "df[df[\"B\"] <= 6]"
   ]
  },
  {
   "cell_type": "code",
   "execution_count": 9,
   "metadata": {},
   "outputs": [
    {
     "data": {
      "text/html": [
       "<div>\n",
       "<style scoped>\n",
       "    .dataframe tbody tr th:only-of-type {\n",
       "        vertical-align: middle;\n",
       "    }\n",
       "\n",
       "    .dataframe tbody tr th {\n",
       "        vertical-align: top;\n",
       "    }\n",
       "\n",
       "    .dataframe thead th {\n",
       "        text-align: right;\n",
       "    }\n",
       "</style>\n",
       "<table border=\"1\" class=\"dataframe\">\n",
       "  <thead>\n",
       "    <tr style=\"text-align: right;\">\n",
       "      <th></th>\n",
       "      <th>Roles</th>\n",
       "      <th>Sex</th>\n",
       "      <th>Full name</th>\n",
       "      <th>Used name</th>\n",
       "      <th>Born</th>\n",
       "      <th>Died</th>\n",
       "      <th>NOC</th>\n",
       "      <th>athlete_id</th>\n",
       "      <th>Measurements</th>\n",
       "      <th>Affiliations</th>\n",
       "      <th>Nick/petnames</th>\n",
       "      <th>Title(s)</th>\n",
       "      <th>Other names</th>\n",
       "      <th>Nationality</th>\n",
       "      <th>Original name</th>\n",
       "      <th>Name order</th>\n",
       "    </tr>\n",
       "  </thead>\n",
       "  <tbody>\n",
       "    <tr>\n",
       "      <th>0</th>\n",
       "      <td>Competed in Olympic Games</td>\n",
       "      <td>Male</td>\n",
       "      <td>François Joseph Marie Antoine \"Jean-François\"•...</td>\n",
       "      <td>Jean-François•Blanchy</td>\n",
       "      <td>12 December 1886 in Bordeaux, Gironde (FRA)</td>\n",
       "      <td>2 October 1960 in Saint-Jean-de-Luz, Pyrénées-...</td>\n",
       "      <td>France</td>\n",
       "      <td>1</td>\n",
       "      <td>NaN</td>\n",
       "      <td>NaN</td>\n",
       "      <td>NaN</td>\n",
       "      <td>NaN</td>\n",
       "      <td>NaN</td>\n",
       "      <td>NaN</td>\n",
       "      <td>NaN</td>\n",
       "      <td>NaN</td>\n",
       "    </tr>\n",
       "    <tr>\n",
       "      <th>1</th>\n",
       "      <td>Competed in Olympic Games</td>\n",
       "      <td>Male</td>\n",
       "      <td>Arnaud Benjamin•Boetsch</td>\n",
       "      <td>Arnaud•Boetsch</td>\n",
       "      <td>1 April 1969 in Meulan, Yvelines (FRA)</td>\n",
       "      <td>NaN</td>\n",
       "      <td>France</td>\n",
       "      <td>2</td>\n",
       "      <td>183 cm / 76 kg</td>\n",
       "      <td>Racing Club de France, Paris (FRA)</td>\n",
       "      <td>NaN</td>\n",
       "      <td>NaN</td>\n",
       "      <td>NaN</td>\n",
       "      <td>NaN</td>\n",
       "      <td>NaN</td>\n",
       "      <td>NaN</td>\n",
       "    </tr>\n",
       "  </tbody>\n",
       "</table>\n",
       "</div>"
      ],
      "text/plain": [
       "                       Roles   Sex  \\\n",
       "0  Competed in Olympic Games  Male   \n",
       "1  Competed in Olympic Games  Male   \n",
       "\n",
       "                                           Full name              Used name  \\\n",
       "0  François Joseph Marie Antoine \"Jean-François\"•...  Jean-François•Blanchy   \n",
       "1                            Arnaud Benjamin•Boetsch         Arnaud•Boetsch   \n",
       "\n",
       "                                          Born  \\\n",
       "0  12 December 1886 in Bordeaux, Gironde (FRA)   \n",
       "1       1 April 1969 in Meulan, Yvelines (FRA)   \n",
       "\n",
       "                                                Died     NOC  athlete_id  \\\n",
       "0  2 October 1960 in Saint-Jean-de-Luz, Pyrénées-...  France           1   \n",
       "1                                                NaN  France           2   \n",
       "\n",
       "     Measurements                        Affiliations Nick/petnames Title(s)  \\\n",
       "0             NaN                                 NaN           NaN      NaN   \n",
       "1  183 cm / 76 kg  Racing Club de France, Paris (FRA)           NaN      NaN   \n",
       "\n",
       "  Other names Nationality Original name Name order  \n",
       "0         NaN         NaN           NaN        NaN  \n",
       "1         NaN         NaN           NaN        NaN  "
      ]
     },
     "execution_count": 9,
     "metadata": {},
     "output_type": "execute_result"
    }
   ],
   "source": [
    "bios = pd.read_csv(\"bios.csv\")\n",
    "bios.head(2)"
   ]
  },
  {
   "cell_type": "code",
   "execution_count": 10,
   "metadata": {},
   "outputs": [
    {
     "data": {
      "text/plain": [
       "2328000"
      ]
     },
     "execution_count": 10,
     "metadata": {},
     "output_type": "execute_result"
    }
   ],
   "source": [
    "bios.size"
   ]
  },
  {
   "cell_type": "code",
   "execution_count": 11,
   "metadata": {},
   "outputs": [
    {
     "data": {
      "text/plain": [
       "Index(['Roles', 'Sex', 'Full name', 'Used name', 'Born', 'Died', 'NOC',\n",
       "       'athlete_id', 'Measurements', 'Affiliations', 'Nick/petnames',\n",
       "       'Title(s)', 'Other names', 'Nationality', 'Original name',\n",
       "       'Name order'],\n",
       "      dtype='object')"
      ]
     },
     "execution_count": 11,
     "metadata": {},
     "output_type": "execute_result"
    }
   ],
   "source": [
    "bios.columns"
   ]
  },
  {
   "cell_type": "code",
   "execution_count": 12,
   "metadata": {},
   "outputs": [
    {
     "data": {
      "text/plain": [
       "array(['Competed in Olympic Games',\n",
       "       'Competed in Olympic Games • Administrator',\n",
       "       'Competed in Olympic Games • Competed in Intercalated Games • Non-starter',\n",
       "       'Competed in Olympic Games • Competed in Olympic Games (non-medal events)',\n",
       "       'Competed in Olympic Games • Competed in Intercalated Games • Competed in Olympic Games (non-medal events)',\n",
       "       'Competed in Olympic Games • Non-starter',\n",
       "       'Competed in Olympic Games • Competed in Intercalated Games',\n",
       "       'Competed in Olympic Games • Competed in Olympic Games (non-medal events) • Other',\n",
       "       'Competed in Olympic Games • Other',\n",
       "       'Competed in Olympic Games • Referee',\n",
       "       'Competed in Olympic Games • Other • Administrator',\n",
       "       'Competed in Olympic Games • Non-starter • Other',\n",
       "       'Competed in Olympic Games • Coach',\n",
       "       'Competed in Olympic Games • Competed in Olympic Games • Non-starter • Referee',\n",
       "       'Competed in Olympic Games • Non-starter • Coach',\n",
       "       'Competed in Olympic Games • Coach • Other',\n",
       "       'Competed in Olympic Games • Coach • Referee',\n",
       "       'Competed in Olympic Games • Referee • Administrator',\n",
       "       'Competed in Olympic Games • Non-starter • Non-starter',\n",
       "       'Competed in Olympic Games • Competed in Olympic Games (non-medal events) • Coach',\n",
       "       'Competed in Olympic Games • Competed in Intercalated Games • Other',\n",
       "       'Non-starter', 'Competed in Olympic Games • Non-starter • Referee',\n",
       "       'Competed in Olympic Games • Competed in Intercalated Games • Non-starter • Referee • Administrator',\n",
       "       'Competed in Olympic Games • Non-starter • Referee • Administrator',\n",
       "       'Competed in Olympic Games • Competed in Olympic Games (non-medal events) • Referee',\n",
       "       'Competed in Olympic Games • Non-starter • Other • Administrator',\n",
       "       'Competed in Olympic Games • Competed in Intercalated Games • Referee',\n",
       "       'Competed in Olympic Games • Non-starter • Referee • Other',\n",
       "       'Competed in Olympic Games • Referee • Other',\n",
       "       'Non-starter • Referee',\n",
       "       'Competed in Olympic Games • Competed in Olympic Games (non-medal events) • Administrator',\n",
       "       'Competed in Olympic Games • Competed in Intercalated Games • Non-starter • Referee',\n",
       "       'Competed in Intercalated Games • Non-starter',\n",
       "       'Competed in Olympic Games • Referee • Other • Administrator',\n",
       "       'Competed in Olympic Games • Competed in Intercalated Games • Referee • Other',\n",
       "       'Competed in Olympic Games • Competed in Intercalated Games • Referee • Administrator',\n",
       "       'Competed in Olympic Games • Competed in Olympic Games • Competed in Olympic Games (non-medal events)',\n",
       "       'Competed in Intercalated Games',\n",
       "       'Competed in Olympic Games • Competed in Intercalated Games • Non-starter • Other',\n",
       "       'Competed in Olympic Games • Non-starter • Administrator',\n",
       "       'Competed in Olympic Games • Competed in Intercalated Games • Coach • Other',\n",
       "       'Competed in Olympic Games • Competed in Intercalated Games • Coach',\n",
       "       'Competed in Olympic Games • Non-starter • Coach • Referee',\n",
       "       'Competed in Olympic Games • Competed in Forerunners to the Olympic Games',\n",
       "       'Competed in Olympic Games • Competed in Olympic Games (non-medal events) • Referee • Other',\n",
       "       'Competed in Olympic Games • Competed in Intercalated Games • Administrator',\n",
       "       'Competed in Olympic Games • Competed in Intercalated Games • Competed in Olympic Games (non-medal events) • Other',\n",
       "       'Competed in Olympic Games • Competed in Olympic Games (non-medal events) • Non-starter',\n",
       "       'Competed in Intercalated Games • Administrator',\n",
       "       'Competed in Intercalated Games • Competed in Olympic Games (non-medal events)',\n",
       "       'Competed in Intercalated Games • Other • Administrator',\n",
       "       'Competed in Intercalated Games • Other',\n",
       "       'Competed in Intercalated Games • Non-starter • Administrator',\n",
       "       'Competed in Olympic Games • Competed in Olympic Games (non-medal events) • Competed in Olympic Games (non-medal events)',\n",
       "       'Competed in Olympic Games • Competed in Olympic Games • Non-starter',\n",
       "       'Competed in Olympic Games • Coach • Referee • Administrator',\n",
       "       'Non-starter • Coach • Other',\n",
       "       'Competed in Olympic Games • Coach • Administrator',\n",
       "       'Competed in Olympic Games • Competed in Olympic Games (non-medal events) • Coach • Other',\n",
       "       'Competed in Olympic Games • Competed in Youth Olympic Games',\n",
       "       'Competed in Olympic Games • Competed in Youth Olympic Games • Other',\n",
       "       'Competed in Olympic Games • Competed in Youth Olympic Games • Non-starter • Other',\n",
       "       'Competed in Olympic Games • Competed in Youth Olympic Games • Non-starter',\n",
       "       'Competed in Youth Olympic Games', '—',\n",
       "       'Competed in Youth Olympic Games • Non-starter',\n",
       "       'Non-starter • Other', 'Other', 'Non-starter • Administrator'],\n",
       "      dtype=object)"
      ]
     },
     "execution_count": 12,
     "metadata": {},
     "output_type": "execute_result"
    }
   ],
   "source": [
    "bios[\"Roles\"].unique()"
   ]
  },
  {
   "cell_type": "code",
   "execution_count": 13,
   "metadata": {},
   "outputs": [
    {
     "data": {
      "text/plain": [
       "0                          [Competed in Olympic Games]\n",
       "1                          [Competed in Olympic Games]\n",
       "2         [Competed in Olympic Games ,  Administrator]\n",
       "3                          [Competed in Olympic Games]\n",
       "4                          [Competed in Olympic Games]\n",
       "                              ...                     \n",
       "145495                     [Competed in Olympic Games]\n",
       "145496                     [Competed in Olympic Games]\n",
       "145497                     [Competed in Olympic Games]\n",
       "145498                     [Competed in Olympic Games]\n",
       "145499                  [Non-starter ,  Administrator]\n",
       "Name: Roles, Length: 145500, dtype: object"
      ]
     },
     "execution_count": 13,
     "metadata": {},
     "output_type": "execute_result"
    }
   ],
   "source": [
    "bios[\"Roles\"].str.split(\"•\")"
   ]
  },
  {
   "cell_type": "code",
   "execution_count": 14,
   "metadata": {},
   "outputs": [],
   "source": [
    "bios[[\"Role 1\", \"Role 2\", \"Role 3\", \"Role 4\", \"Role 5\"]] = bios[\"Roles\"].str.split(\"•\", expand = True)"
   ]
  },
  {
   "cell_type": "code",
   "execution_count": 15,
   "metadata": {},
   "outputs": [
    {
     "data": {
      "text/html": [
       "<div>\n",
       "<style scoped>\n",
       "    .dataframe tbody tr th:only-of-type {\n",
       "        vertical-align: middle;\n",
       "    }\n",
       "\n",
       "    .dataframe tbody tr th {\n",
       "        vertical-align: top;\n",
       "    }\n",
       "\n",
       "    .dataframe thead th {\n",
       "        text-align: right;\n",
       "    }\n",
       "</style>\n",
       "<table border=\"1\" class=\"dataframe\">\n",
       "  <thead>\n",
       "    <tr style=\"text-align: right;\">\n",
       "      <th></th>\n",
       "      <th>Roles</th>\n",
       "      <th>Sex</th>\n",
       "      <th>Full name</th>\n",
       "      <th>Used name</th>\n",
       "      <th>Born</th>\n",
       "      <th>Died</th>\n",
       "      <th>NOC</th>\n",
       "      <th>athlete_id</th>\n",
       "      <th>Measurements</th>\n",
       "      <th>Affiliations</th>\n",
       "      <th>...</th>\n",
       "      <th>Title(s)</th>\n",
       "      <th>Other names</th>\n",
       "      <th>Nationality</th>\n",
       "      <th>Original name</th>\n",
       "      <th>Name order</th>\n",
       "      <th>Role 1</th>\n",
       "      <th>Role 2</th>\n",
       "      <th>Role 3</th>\n",
       "      <th>Role 4</th>\n",
       "      <th>Role 5</th>\n",
       "    </tr>\n",
       "  </thead>\n",
       "  <tbody>\n",
       "    <tr>\n",
       "      <th>0</th>\n",
       "      <td>Competed in Olympic Games</td>\n",
       "      <td>Male</td>\n",
       "      <td>François Joseph Marie Antoine \"Jean-François\"•...</td>\n",
       "      <td>Jean-François•Blanchy</td>\n",
       "      <td>12 December 1886 in Bordeaux, Gironde (FRA)</td>\n",
       "      <td>2 October 1960 in Saint-Jean-de-Luz, Pyrénées-...</td>\n",
       "      <td>France</td>\n",
       "      <td>1</td>\n",
       "      <td>NaN</td>\n",
       "      <td>NaN</td>\n",
       "      <td>...</td>\n",
       "      <td>NaN</td>\n",
       "      <td>NaN</td>\n",
       "      <td>NaN</td>\n",
       "      <td>NaN</td>\n",
       "      <td>NaN</td>\n",
       "      <td>Competed in Olympic Games</td>\n",
       "      <td>None</td>\n",
       "      <td>None</td>\n",
       "      <td>None</td>\n",
       "      <td>None</td>\n",
       "    </tr>\n",
       "    <tr>\n",
       "      <th>1</th>\n",
       "      <td>Competed in Olympic Games</td>\n",
       "      <td>Male</td>\n",
       "      <td>Arnaud Benjamin•Boetsch</td>\n",
       "      <td>Arnaud•Boetsch</td>\n",
       "      <td>1 April 1969 in Meulan, Yvelines (FRA)</td>\n",
       "      <td>NaN</td>\n",
       "      <td>France</td>\n",
       "      <td>2</td>\n",
       "      <td>183 cm / 76 kg</td>\n",
       "      <td>Racing Club de France, Paris (FRA)</td>\n",
       "      <td>...</td>\n",
       "      <td>NaN</td>\n",
       "      <td>NaN</td>\n",
       "      <td>NaN</td>\n",
       "      <td>NaN</td>\n",
       "      <td>NaN</td>\n",
       "      <td>Competed in Olympic Games</td>\n",
       "      <td>None</td>\n",
       "      <td>None</td>\n",
       "      <td>None</td>\n",
       "      <td>None</td>\n",
       "    </tr>\n",
       "    <tr>\n",
       "      <th>2</th>\n",
       "      <td>Competed in Olympic Games • Administrator</td>\n",
       "      <td>Male</td>\n",
       "      <td>Jean Laurent Robert•Borotra</td>\n",
       "      <td>Jean•Borotra</td>\n",
       "      <td>13 August 1898 in Biarritz, Pyrénées-Atlantiqu...</td>\n",
       "      <td>17 July 1994 in Arbonne, Pyrénées-Atlantiques ...</td>\n",
       "      <td>France</td>\n",
       "      <td>3</td>\n",
       "      <td>183 cm / 76 kg</td>\n",
       "      <td>TCP, Paris (FRA)</td>\n",
       "      <td>...</td>\n",
       "      <td>NaN</td>\n",
       "      <td>NaN</td>\n",
       "      <td>NaN</td>\n",
       "      <td>NaN</td>\n",
       "      <td>NaN</td>\n",
       "      <td>Competed in Olympic Games</td>\n",
       "      <td>Administrator</td>\n",
       "      <td>None</td>\n",
       "      <td>None</td>\n",
       "      <td>None</td>\n",
       "    </tr>\n",
       "    <tr>\n",
       "      <th>3</th>\n",
       "      <td>Competed in Olympic Games</td>\n",
       "      <td>Male</td>\n",
       "      <td>Jacques Marie Stanislas Jean•Brugnon</td>\n",
       "      <td>Jacques•Brugnon</td>\n",
       "      <td>11 May 1895 in Paris VIIIe, Paris (FRA)</td>\n",
       "      <td>20 March 1978 in Monaco, Monaco (MON)</td>\n",
       "      <td>France</td>\n",
       "      <td>4</td>\n",
       "      <td>168 cm / 64 kg</td>\n",
       "      <td>Sporting club de Paris, Paris (FRA)</td>\n",
       "      <td>...</td>\n",
       "      <td>NaN</td>\n",
       "      <td>NaN</td>\n",
       "      <td>NaN</td>\n",
       "      <td>NaN</td>\n",
       "      <td>NaN</td>\n",
       "      <td>Competed in Olympic Games</td>\n",
       "      <td>None</td>\n",
       "      <td>None</td>\n",
       "      <td>None</td>\n",
       "      <td>None</td>\n",
       "    </tr>\n",
       "    <tr>\n",
       "      <th>4</th>\n",
       "      <td>Competed in Olympic Games</td>\n",
       "      <td>Male</td>\n",
       "      <td>Henry Albert•Canet</td>\n",
       "      <td>Albert•Canet</td>\n",
       "      <td>17 April 1878 in Wandsworth, England (GBR)</td>\n",
       "      <td>25 July 1930 in Paris VIIe, Paris (FRA)</td>\n",
       "      <td>France</td>\n",
       "      <td>5</td>\n",
       "      <td>NaN</td>\n",
       "      <td>TCP, Paris (FRA)</td>\n",
       "      <td>...</td>\n",
       "      <td>NaN</td>\n",
       "      <td>NaN</td>\n",
       "      <td>NaN</td>\n",
       "      <td>NaN</td>\n",
       "      <td>NaN</td>\n",
       "      <td>Competed in Olympic Games</td>\n",
       "      <td>None</td>\n",
       "      <td>None</td>\n",
       "      <td>None</td>\n",
       "      <td>None</td>\n",
       "    </tr>\n",
       "    <tr>\n",
       "      <th>...</th>\n",
       "      <td>...</td>\n",
       "      <td>...</td>\n",
       "      <td>...</td>\n",
       "      <td>...</td>\n",
       "      <td>...</td>\n",
       "      <td>...</td>\n",
       "      <td>...</td>\n",
       "      <td>...</td>\n",
       "      <td>...</td>\n",
       "      <td>...</td>\n",
       "      <td>...</td>\n",
       "      <td>...</td>\n",
       "      <td>...</td>\n",
       "      <td>...</td>\n",
       "      <td>...</td>\n",
       "      <td>...</td>\n",
       "      <td>...</td>\n",
       "      <td>...</td>\n",
       "      <td>...</td>\n",
       "      <td>...</td>\n",
       "      <td>...</td>\n",
       "    </tr>\n",
       "    <tr>\n",
       "      <th>145495</th>\n",
       "      <td>Competed in Olympic Games</td>\n",
       "      <td>Female</td>\n",
       "      <td>Polina•Luchnikova</td>\n",
       "      <td>Polina•Luchnikova</td>\n",
       "      <td>30 January 2002 in Serov, Sverdlovsk (RUS)</td>\n",
       "      <td>NaN</td>\n",
       "      <td>ROC</td>\n",
       "      <td>149222</td>\n",
       "      <td>167 cm / 61 kg</td>\n",
       "      <td>Agidel, Ufa (RUS)</td>\n",
       "      <td>...</td>\n",
       "      <td>NaN</td>\n",
       "      <td>NaN</td>\n",
       "      <td>NaN</td>\n",
       "      <td>NaN</td>\n",
       "      <td>NaN</td>\n",
       "      <td>Competed in Olympic Games</td>\n",
       "      <td>None</td>\n",
       "      <td>None</td>\n",
       "      <td>None</td>\n",
       "      <td>None</td>\n",
       "    </tr>\n",
       "    <tr>\n",
       "      <th>145496</th>\n",
       "      <td>Competed in Olympic Games</td>\n",
       "      <td>Female</td>\n",
       "      <td>Valeriya Sergeyevna•Merkusheva</td>\n",
       "      <td>Valeriya•Merkusheva</td>\n",
       "      <td>20 September 1999 in Moskva (Moscow), Moskva (...</td>\n",
       "      <td>NaN</td>\n",
       "      <td>ROC</td>\n",
       "      <td>149223</td>\n",
       "      <td>168 cm / 65 kg</td>\n",
       "      <td>SKIF Nizhny Novgorod, Nizhny Novgorod (RUS)</td>\n",
       "      <td>...</td>\n",
       "      <td>NaN</td>\n",
       "      <td>NaN</td>\n",
       "      <td>NaN</td>\n",
       "      <td>Валерия Сергеевна•Меркушева</td>\n",
       "      <td>NaN</td>\n",
       "      <td>Competed in Olympic Games</td>\n",
       "      <td>None</td>\n",
       "      <td>None</td>\n",
       "      <td>None</td>\n",
       "      <td>None</td>\n",
       "    </tr>\n",
       "    <tr>\n",
       "      <th>145497</th>\n",
       "      <td>Competed in Olympic Games</td>\n",
       "      <td>Female</td>\n",
       "      <td>Yuliya•Smirnova</td>\n",
       "      <td>Yuliya•Smirnova</td>\n",
       "      <td>8 May 1998 in Kotlas, Arkhangelsk (RUS)</td>\n",
       "      <td>NaN</td>\n",
       "      <td>ROC</td>\n",
       "      <td>149224</td>\n",
       "      <td>163 cm / 55 kg</td>\n",
       "      <td>Agidel, Ufa (RUS)</td>\n",
       "      <td>...</td>\n",
       "      <td>NaN</td>\n",
       "      <td>NaN</td>\n",
       "      <td>NaN</td>\n",
       "      <td>Юлия•Смирнова</td>\n",
       "      <td>NaN</td>\n",
       "      <td>Competed in Olympic Games</td>\n",
       "      <td>None</td>\n",
       "      <td>None</td>\n",
       "      <td>None</td>\n",
       "      <td>None</td>\n",
       "    </tr>\n",
       "    <tr>\n",
       "      <th>145498</th>\n",
       "      <td>Competed in Olympic Games</td>\n",
       "      <td>Male</td>\n",
       "      <td>André•Foussard</td>\n",
       "      <td>André•Foussard</td>\n",
       "      <td>19 May 1899 in Niort, Deux-Sèvres (FRA)</td>\n",
       "      <td>18 March 1986 in Niort, Deux-Sèvres (FRA)</td>\n",
       "      <td>France</td>\n",
       "      <td>149225</td>\n",
       "      <td>166 cm</td>\n",
       "      <td>Beauvoisine FC, Rouen (FRA)</td>\n",
       "      <td>...</td>\n",
       "      <td>NaN</td>\n",
       "      <td>NaN</td>\n",
       "      <td>NaN</td>\n",
       "      <td>NaN</td>\n",
       "      <td>NaN</td>\n",
       "      <td>Competed in Olympic Games</td>\n",
       "      <td>None</td>\n",
       "      <td>None</td>\n",
       "      <td>None</td>\n",
       "      <td>None</td>\n",
       "    </tr>\n",
       "    <tr>\n",
       "      <th>145499</th>\n",
       "      <td>Non-starter • Administrator</td>\n",
       "      <td>Male</td>\n",
       "      <td>William Berge \"Bill\"•Phillips</td>\n",
       "      <td>Bill•Phillips</td>\n",
       "      <td>15 July 1913 in Dulwich Hill, New South Wales ...</td>\n",
       "      <td>20 October 2003 in Sydney, New South Wales (AUS)</td>\n",
       "      <td>Australia</td>\n",
       "      <td>149814</td>\n",
       "      <td>NaN</td>\n",
       "      <td>NaN</td>\n",
       "      <td>...</td>\n",
       "      <td>NaN</td>\n",
       "      <td>NaN</td>\n",
       "      <td>NaN</td>\n",
       "      <td>NaN</td>\n",
       "      <td>NaN</td>\n",
       "      <td>Non-starter</td>\n",
       "      <td>Administrator</td>\n",
       "      <td>None</td>\n",
       "      <td>None</td>\n",
       "      <td>None</td>\n",
       "    </tr>\n",
       "  </tbody>\n",
       "</table>\n",
       "<p>145500 rows × 21 columns</p>\n",
       "</div>"
      ],
      "text/plain": [
       "                                            Roles     Sex  \\\n",
       "0                       Competed in Olympic Games    Male   \n",
       "1                       Competed in Olympic Games    Male   \n",
       "2       Competed in Olympic Games • Administrator    Male   \n",
       "3                       Competed in Olympic Games    Male   \n",
       "4                       Competed in Olympic Games    Male   \n",
       "...                                           ...     ...   \n",
       "145495                  Competed in Olympic Games  Female   \n",
       "145496                  Competed in Olympic Games  Female   \n",
       "145497                  Competed in Olympic Games  Female   \n",
       "145498                  Competed in Olympic Games    Male   \n",
       "145499                Non-starter • Administrator    Male   \n",
       "\n",
       "                                                Full name  \\\n",
       "0       François Joseph Marie Antoine \"Jean-François\"•...   \n",
       "1                                 Arnaud Benjamin•Boetsch   \n",
       "2                             Jean Laurent Robert•Borotra   \n",
       "3                    Jacques Marie Stanislas Jean•Brugnon   \n",
       "4                                      Henry Albert•Canet   \n",
       "...                                                   ...   \n",
       "145495                                  Polina•Luchnikova   \n",
       "145496                     Valeriya Sergeyevna•Merkusheva   \n",
       "145497                                    Yuliya•Smirnova   \n",
       "145498                                     André•Foussard   \n",
       "145499                      William Berge \"Bill\"•Phillips   \n",
       "\n",
       "                    Used name  \\\n",
       "0       Jean-François•Blanchy   \n",
       "1              Arnaud•Boetsch   \n",
       "2                Jean•Borotra   \n",
       "3             Jacques•Brugnon   \n",
       "4                Albert•Canet   \n",
       "...                       ...   \n",
       "145495      Polina•Luchnikova   \n",
       "145496    Valeriya•Merkusheva   \n",
       "145497        Yuliya•Smirnova   \n",
       "145498         André•Foussard   \n",
       "145499          Bill•Phillips   \n",
       "\n",
       "                                                     Born  \\\n",
       "0             12 December 1886 in Bordeaux, Gironde (FRA)   \n",
       "1                  1 April 1969 in Meulan, Yvelines (FRA)   \n",
       "2       13 August 1898 in Biarritz, Pyrénées-Atlantiqu...   \n",
       "3                 11 May 1895 in Paris VIIIe, Paris (FRA)   \n",
       "4              17 April 1878 in Wandsworth, England (GBR)   \n",
       "...                                                   ...   \n",
       "145495         30 January 2002 in Serov, Sverdlovsk (RUS)   \n",
       "145496  20 September 1999 in Moskva (Moscow), Moskva (...   \n",
       "145497            8 May 1998 in Kotlas, Arkhangelsk (RUS)   \n",
       "145498            19 May 1899 in Niort, Deux-Sèvres (FRA)   \n",
       "145499  15 July 1913 in Dulwich Hill, New South Wales ...   \n",
       "\n",
       "                                                     Died        NOC  \\\n",
       "0       2 October 1960 in Saint-Jean-de-Luz, Pyrénées-...     France   \n",
       "1                                                     NaN     France   \n",
       "2       17 July 1994 in Arbonne, Pyrénées-Atlantiques ...     France   \n",
       "3                   20 March 1978 in Monaco, Monaco (MON)     France   \n",
       "4                 25 July 1930 in Paris VIIe, Paris (FRA)     France   \n",
       "...                                                   ...        ...   \n",
       "145495                                                NaN        ROC   \n",
       "145496                                                NaN        ROC   \n",
       "145497                                                NaN        ROC   \n",
       "145498          18 March 1986 in Niort, Deux-Sèvres (FRA)     France   \n",
       "145499   20 October 2003 in Sydney, New South Wales (AUS)  Australia   \n",
       "\n",
       "        athlete_id    Measurements  \\\n",
       "0                1             NaN   \n",
       "1                2  183 cm / 76 kg   \n",
       "2                3  183 cm / 76 kg   \n",
       "3                4  168 cm / 64 kg   \n",
       "4                5             NaN   \n",
       "...            ...             ...   \n",
       "145495      149222  167 cm / 61 kg   \n",
       "145496      149223  168 cm / 65 kg   \n",
       "145497      149224  163 cm / 55 kg   \n",
       "145498      149225          166 cm   \n",
       "145499      149814             NaN   \n",
       "\n",
       "                                       Affiliations  ... Title(s) Other names  \\\n",
       "0                                               NaN  ...      NaN         NaN   \n",
       "1                Racing Club de France, Paris (FRA)  ...      NaN         NaN   \n",
       "2                                  TCP, Paris (FRA)  ...      NaN         NaN   \n",
       "3               Sporting club de Paris, Paris (FRA)  ...      NaN         NaN   \n",
       "4                                  TCP, Paris (FRA)  ...      NaN         NaN   \n",
       "...                                             ...  ...      ...         ...   \n",
       "145495                            Agidel, Ufa (RUS)  ...      NaN         NaN   \n",
       "145496  SKIF Nizhny Novgorod, Nizhny Novgorod (RUS)  ...      NaN         NaN   \n",
       "145497                            Agidel, Ufa (RUS)  ...      NaN         NaN   \n",
       "145498                  Beauvoisine FC, Rouen (FRA)  ...      NaN         NaN   \n",
       "145499                                          NaN  ...      NaN         NaN   \n",
       "\n",
       "       Nationality                Original name Name order  \\\n",
       "0              NaN                          NaN        NaN   \n",
       "1              NaN                          NaN        NaN   \n",
       "2              NaN                          NaN        NaN   \n",
       "3              NaN                          NaN        NaN   \n",
       "4              NaN                          NaN        NaN   \n",
       "...            ...                          ...        ...   \n",
       "145495         NaN                          NaN        NaN   \n",
       "145496         NaN  Валерия Сергеевна•Меркушева        NaN   \n",
       "145497         NaN                Юлия•Смирнова        NaN   \n",
       "145498         NaN                          NaN        NaN   \n",
       "145499         NaN                          NaN        NaN   \n",
       "\n",
       "                            Role 1          Role 2 Role 3 Role 4 Role 5  \n",
       "0        Competed in Olympic Games            None   None   None   None  \n",
       "1        Competed in Olympic Games            None   None   None   None  \n",
       "2       Competed in Olympic Games    Administrator   None   None   None  \n",
       "3        Competed in Olympic Games            None   None   None   None  \n",
       "4        Competed in Olympic Games            None   None   None   None  \n",
       "...                            ...             ...    ...    ...    ...  \n",
       "145495   Competed in Olympic Games            None   None   None   None  \n",
       "145496   Competed in Olympic Games            None   None   None   None  \n",
       "145497   Competed in Olympic Games            None   None   None   None  \n",
       "145498   Competed in Olympic Games            None   None   None   None  \n",
       "145499                Non-starter    Administrator   None   None   None  \n",
       "\n",
       "[145500 rows x 21 columns]"
      ]
     },
     "execution_count": 15,
     "metadata": {},
     "output_type": "execute_result"
    }
   ],
   "source": [
    "bios"
   ]
  },
  {
   "cell_type": "code",
   "execution_count": 16,
   "metadata": {},
   "outputs": [
    {
     "data": {
      "text/plain": [
       "Roles                            Competed in Olympic Games\n",
       "Sex                                                   Male\n",
       "Full name                              Louis Paul•Lebreton\n",
       "Used name                                    Paul•Lebreton\n",
       "Born             19 October 1875 in Paris IIe, Paris (FRA)\n",
       "Died               31 March 1960 in Paris IXe, Paris (FRA)\n",
       "NOC                                                 France\n",
       "athlete_id                                              24\n",
       "Measurements                                           NaN\n",
       "Affiliations                              TCP, Paris (FRA)\n",
       "Nick/petnames                                          NaN\n",
       "Title(s)                                               NaN\n",
       "Other names                                            NaN\n",
       "Nationality                                            NaN\n",
       "Original name                                          NaN\n",
       "Name order                                             NaN\n",
       "Role 1                           Competed in Olympic Games\n",
       "Role 2                                                None\n",
       "Role 3                                                None\n",
       "Role 4                                                None\n",
       "Role 5                                                None\n",
       "Name: 23, dtype: object"
      ]
     },
     "execution_count": 16,
     "metadata": {},
     "output_type": "execute_result"
    }
   ],
   "source": [
    "bios.loc[23]"
   ]
  },
  {
   "cell_type": "code",
   "execution_count": 17,
   "metadata": {},
   "outputs": [
    {
     "data": {
      "text/plain": [
       "Roles                 0\n",
       "Sex                   0\n",
       "Full name             0\n",
       "Used name             0\n",
       "Born               1728\n",
       "Died             111458\n",
       "NOC                   1\n",
       "athlete_id            0\n",
       "Measurements      37667\n",
       "Affiliations      49668\n",
       "Nick/petnames    136355\n",
       "Title(s)         145101\n",
       "Other names      138333\n",
       "Nationality      137241\n",
       "Original name    114761\n",
       "Name order       137656\n",
       "Role 1                0\n",
       "Role 2           137127\n",
       "Role 3           144956\n",
       "Role 4           145472\n",
       "Role 5           145499\n",
       "dtype: int64"
      ]
     },
     "execution_count": 17,
     "metadata": {},
     "output_type": "execute_result"
    }
   ],
   "source": [
    "bios.isnull().sum()"
   ]
  },
  {
   "cell_type": "code",
   "execution_count": 18,
   "metadata": {},
   "outputs": [
    {
     "data": {
      "text/plain": [
       "21"
      ]
     },
     "execution_count": 18,
     "metadata": {},
     "output_type": "execute_result"
    }
   ],
   "source": [
    "bios.shape[1]"
   ]
  },
  {
   "cell_type": "code",
   "execution_count": 19,
   "metadata": {},
   "outputs": [
    {
     "data": {
      "text/plain": [
       "Roles              0.00\n",
       "Sex                0.00\n",
       "Full name          0.00\n",
       "Used name          0.00\n",
       "Born               1.19\n",
       "Died              76.60\n",
       "NOC                0.00\n",
       "athlete_id         0.00\n",
       "Measurements      25.89\n",
       "Affiliations      34.14\n",
       "Nick/petnames     93.71\n",
       "Title(s)          99.73\n",
       "Other names       95.07\n",
       "Nationality       94.32\n",
       "Original name     78.87\n",
       "Name order        94.61\n",
       "Role 1             0.00\n",
       "Role 2            94.25\n",
       "Role 3            99.63\n",
       "Role 4            99.98\n",
       "Role 5           100.00\n",
       "dtype: float64"
      ]
     },
     "execution_count": 19,
     "metadata": {},
     "output_type": "execute_result"
    }
   ],
   "source": [
    "# percentage of null values\n",
    "(bios.isnull().sum() / bios.shape[0] * 100).round(2)"
   ]
  },
  {
   "cell_type": "code",
   "execution_count": 20,
   "metadata": {},
   "outputs": [
    {
     "data": {
      "text/plain": [
       "array(['Male', 'Female'], dtype=object)"
      ]
     },
     "execution_count": 20,
     "metadata": {},
     "output_type": "execute_result"
    }
   ],
   "source": [
    "# is there more than one sex\n",
    "\n",
    "bios[\"Sex\"].unique()"
   ]
  },
  {
   "cell_type": "code",
   "execution_count": 21,
   "metadata": {},
   "outputs": [
    {
     "data": {
      "text/plain": [
       "array(['Competed in Olympic Games', 'Administrator',\n",
       "       'Competed in Intercalated Games', 'Non-starter',\n",
       "       'Competed in Olympic Games (non-medal events)', 'Other', 'Referee',\n",
       "       'Coach', 'Competed in Forerunners to the Olympic Games',\n",
       "       'Competed in Youth Olympic Games', '—'], dtype=object)"
      ]
     },
     "execution_count": 21,
     "metadata": {},
     "output_type": "execute_result"
    }
   ],
   "source": [
    "bios[\"Roles\"].str.split(\"•\").explode().str.strip().unique()"
   ]
  },
  {
   "cell_type": "code",
   "execution_count": 22,
   "metadata": {},
   "outputs": [
    {
     "data": {
      "text/plain": [
       "'Arnaud Benjamin•Boetsch'"
      ]
     },
     "execution_count": 22,
     "metadata": {},
     "output_type": "execute_result"
    }
   ],
   "source": [
    "bios[\"Full name\"].loc[1]"
   ]
  },
  {
   "cell_type": "code",
   "execution_count": 23,
   "metadata": {},
   "outputs": [
    {
     "data": {
      "text/plain": [
       "'Arnaud•Boetsch'"
      ]
     },
     "execution_count": 23,
     "metadata": {},
     "output_type": "execute_result"
    }
   ],
   "source": [
    "bios[\"Used name\"].loc[1]"
   ]
  },
  {
   "cell_type": "code",
   "execution_count": 24,
   "metadata": {},
   "outputs": [
    {
     "data": {
      "text/plain": [
       "0         [François Joseph Marie Antoine \"Jean-François\"...\n",
       "1                                [Arnaud Benjamin, Boetsch]\n",
       "2                            [Jean Laurent Robert, Borotra]\n",
       "3                   [Jacques Marie Stanislas Jean, Brugnon]\n",
       "4                                     [Henry Albert, Canet]\n",
       "                                ...                        \n",
       "145495                                 [Polina, Luchnikova]\n",
       "145496                    [Valeriya Sergeyevna, Merkusheva]\n",
       "145497                                   [Yuliya, Smirnova]\n",
       "145498                                    [André, Foussard]\n",
       "145499                     [William Berge \"Bill\", Phillips]\n",
       "Name: Full name, Length: 145500, dtype: object"
      ]
     },
     "execution_count": 24,
     "metadata": {},
     "output_type": "execute_result"
    }
   ],
   "source": [
    "bios[\"Full name\"].str.split(\"•\")"
   ]
  },
  {
   "cell_type": "code",
   "execution_count": 25,
   "metadata": {},
   "outputs": [],
   "source": [
    "bios[[\"height_cm\", \"weight_kg\"]] = bios[\"Measurements\"].str.split(\"/\", expand = True)"
   ]
  },
  {
   "cell_type": "code",
   "execution_count": 26,
   "metadata": {},
   "outputs": [
    {
     "data": {
      "text/html": [
       "<div>\n",
       "<style scoped>\n",
       "    .dataframe tbody tr th:only-of-type {\n",
       "        vertical-align: middle;\n",
       "    }\n",
       "\n",
       "    .dataframe tbody tr th {\n",
       "        vertical-align: top;\n",
       "    }\n",
       "\n",
       "    .dataframe thead th {\n",
       "        text-align: right;\n",
       "    }\n",
       "</style>\n",
       "<table border=\"1\" class=\"dataframe\">\n",
       "  <thead>\n",
       "    <tr style=\"text-align: right;\">\n",
       "      <th></th>\n",
       "      <th>height_cm</th>\n",
       "      <th>weight_kg</th>\n",
       "    </tr>\n",
       "  </thead>\n",
       "  <tbody>\n",
       "    <tr>\n",
       "      <th>0</th>\n",
       "      <td>NaN</td>\n",
       "      <td>NaN</td>\n",
       "    </tr>\n",
       "    <tr>\n",
       "      <th>1</th>\n",
       "      <td>183 cm</td>\n",
       "      <td>76 kg</td>\n",
       "    </tr>\n",
       "    <tr>\n",
       "      <th>2</th>\n",
       "      <td>183 cm</td>\n",
       "      <td>76 kg</td>\n",
       "    </tr>\n",
       "    <tr>\n",
       "      <th>3</th>\n",
       "      <td>168 cm</td>\n",
       "      <td>64 kg</td>\n",
       "    </tr>\n",
       "    <tr>\n",
       "      <th>4</th>\n",
       "      <td>NaN</td>\n",
       "      <td>NaN</td>\n",
       "    </tr>\n",
       "    <tr>\n",
       "      <th>...</th>\n",
       "      <td>...</td>\n",
       "      <td>...</td>\n",
       "    </tr>\n",
       "    <tr>\n",
       "      <th>145495</th>\n",
       "      <td>167 cm</td>\n",
       "      <td>61 kg</td>\n",
       "    </tr>\n",
       "    <tr>\n",
       "      <th>145496</th>\n",
       "      <td>168 cm</td>\n",
       "      <td>65 kg</td>\n",
       "    </tr>\n",
       "    <tr>\n",
       "      <th>145497</th>\n",
       "      <td>163 cm</td>\n",
       "      <td>55 kg</td>\n",
       "    </tr>\n",
       "    <tr>\n",
       "      <th>145498</th>\n",
       "      <td>166 cm</td>\n",
       "      <td>None</td>\n",
       "    </tr>\n",
       "    <tr>\n",
       "      <th>145499</th>\n",
       "      <td>NaN</td>\n",
       "      <td>NaN</td>\n",
       "    </tr>\n",
       "  </tbody>\n",
       "</table>\n",
       "<p>145500 rows × 2 columns</p>\n",
       "</div>"
      ],
      "text/plain": [
       "       height_cm weight_kg\n",
       "0            NaN       NaN\n",
       "1        183 cm      76 kg\n",
       "2        183 cm      76 kg\n",
       "3        168 cm      64 kg\n",
       "4            NaN       NaN\n",
       "...          ...       ...\n",
       "145495   167 cm      61 kg\n",
       "145496   168 cm      65 kg\n",
       "145497   163 cm      55 kg\n",
       "145498    166 cm      None\n",
       "145499       NaN       NaN\n",
       "\n",
       "[145500 rows x 2 columns]"
      ]
     },
     "execution_count": 26,
     "metadata": {},
     "output_type": "execute_result"
    }
   ],
   "source": [
    "bios[[\"height_cm\", \"weight_kg\"]]"
   ]
  },
  {
   "cell_type": "code",
   "execution_count": 27,
   "metadata": {},
   "outputs": [],
   "source": [
    "#  split into date born and died\n",
    "\n",
    "bios[\"Born\"]\n",
    "born_pattern = r\"(\\d+ \\w+ \\d{4})\"\n",
    "bios[[\"born_date\"]] = bios[\"Born\"].str.extract(born_pattern)\n",
    "bios[[\"died_date\"]] = bios[\"Died\"].str.extract(born_pattern)"
   ]
  },
  {
   "cell_type": "code",
   "execution_count": 28,
   "metadata": {},
   "outputs": [
    {
     "data": {
      "text/html": [
       "<div>\n",
       "<style scoped>\n",
       "    .dataframe tbody tr th:only-of-type {\n",
       "        vertical-align: middle;\n",
       "    }\n",
       "\n",
       "    .dataframe tbody tr th {\n",
       "        vertical-align: top;\n",
       "    }\n",
       "\n",
       "    .dataframe thead th {\n",
       "        text-align: right;\n",
       "    }\n",
       "</style>\n",
       "<table border=\"1\" class=\"dataframe\">\n",
       "  <thead>\n",
       "    <tr style=\"text-align: right;\">\n",
       "      <th></th>\n",
       "      <th>Roles</th>\n",
       "      <th>Sex</th>\n",
       "      <th>Full name</th>\n",
       "      <th>Used name</th>\n",
       "      <th>Born</th>\n",
       "      <th>Died</th>\n",
       "      <th>NOC</th>\n",
       "      <th>athlete_id</th>\n",
       "      <th>Measurements</th>\n",
       "      <th>Affiliations</th>\n",
       "      <th>...</th>\n",
       "      <th>Name order</th>\n",
       "      <th>Role 1</th>\n",
       "      <th>Role 2</th>\n",
       "      <th>Role 3</th>\n",
       "      <th>Role 4</th>\n",
       "      <th>Role 5</th>\n",
       "      <th>height_cm</th>\n",
       "      <th>weight_kg</th>\n",
       "      <th>born_date</th>\n",
       "      <th>died_date</th>\n",
       "    </tr>\n",
       "  </thead>\n",
       "  <tbody>\n",
       "    <tr>\n",
       "      <th>145498</th>\n",
       "      <td>Competed in Olympic Games</td>\n",
       "      <td>Male</td>\n",
       "      <td>André•Foussard</td>\n",
       "      <td>André•Foussard</td>\n",
       "      <td>19 May 1899 in Niort, Deux-Sèvres (FRA)</td>\n",
       "      <td>18 March 1986 in Niort, Deux-Sèvres (FRA)</td>\n",
       "      <td>France</td>\n",
       "      <td>149225</td>\n",
       "      <td>166 cm</td>\n",
       "      <td>Beauvoisine FC, Rouen (FRA)</td>\n",
       "      <td>...</td>\n",
       "      <td>NaN</td>\n",
       "      <td>Competed in Olympic Games</td>\n",
       "      <td>None</td>\n",
       "      <td>None</td>\n",
       "      <td>None</td>\n",
       "      <td>None</td>\n",
       "      <td>166 cm</td>\n",
       "      <td>None</td>\n",
       "      <td>19 May 1899</td>\n",
       "      <td>18 March 1986</td>\n",
       "    </tr>\n",
       "    <tr>\n",
       "      <th>145499</th>\n",
       "      <td>Non-starter • Administrator</td>\n",
       "      <td>Male</td>\n",
       "      <td>William Berge \"Bill\"•Phillips</td>\n",
       "      <td>Bill•Phillips</td>\n",
       "      <td>15 July 1913 in Dulwich Hill, New South Wales ...</td>\n",
       "      <td>20 October 2003 in Sydney, New South Wales (AUS)</td>\n",
       "      <td>Australia</td>\n",
       "      <td>149814</td>\n",
       "      <td>NaN</td>\n",
       "      <td>NaN</td>\n",
       "      <td>...</td>\n",
       "      <td>NaN</td>\n",
       "      <td>Non-starter</td>\n",
       "      <td>Administrator</td>\n",
       "      <td>None</td>\n",
       "      <td>None</td>\n",
       "      <td>None</td>\n",
       "      <td>NaN</td>\n",
       "      <td>NaN</td>\n",
       "      <td>15 July 1913</td>\n",
       "      <td>20 October 2003</td>\n",
       "    </tr>\n",
       "  </tbody>\n",
       "</table>\n",
       "<p>2 rows × 25 columns</p>\n",
       "</div>"
      ],
      "text/plain": [
       "                              Roles   Sex                      Full name  \\\n",
       "145498    Competed in Olympic Games  Male                 André•Foussard   \n",
       "145499  Non-starter • Administrator  Male  William Berge \"Bill\"•Phillips   \n",
       "\n",
       "             Used name                                               Born  \\\n",
       "145498  André•Foussard            19 May 1899 in Niort, Deux-Sèvres (FRA)   \n",
       "145499   Bill•Phillips  15 July 1913 in Dulwich Hill, New South Wales ...   \n",
       "\n",
       "                                                    Died        NOC  \\\n",
       "145498         18 March 1986 in Niort, Deux-Sèvres (FRA)     France   \n",
       "145499  20 October 2003 in Sydney, New South Wales (AUS)  Australia   \n",
       "\n",
       "        athlete_id Measurements                 Affiliations  ... Name order  \\\n",
       "145498      149225       166 cm  Beauvoisine FC, Rouen (FRA)  ...        NaN   \n",
       "145499      149814          NaN                          NaN  ...        NaN   \n",
       "\n",
       "                           Role 1          Role 2 Role 3 Role 4 Role 5  \\\n",
       "145498  Competed in Olympic Games            None   None   None   None   \n",
       "145499               Non-starter    Administrator   None   None   None   \n",
       "\n",
       "       height_cm weight_kg     born_date        died_date  \n",
       "145498    166 cm      None   19 May 1899    18 March 1986  \n",
       "145499       NaN       NaN  15 July 1913  20 October 2003  \n",
       "\n",
       "[2 rows x 25 columns]"
      ]
     },
     "execution_count": 28,
     "metadata": {},
     "output_type": "execute_result"
    }
   ],
   "source": [
    "bios.tail(2)"
   ]
  },
  {
   "cell_type": "code",
   "execution_count": 29,
   "metadata": {},
   "outputs": [
    {
     "name": "stderr",
     "output_type": "stream",
     "text": [
      "/tmp/ipykernel_5551/2646620591.py:3: SettingWithCopyWarning: \n",
      "A value is trying to be set on a copy of a slice from a DataFrame.\n",
      "Try using .loc[row_indexer,col_indexer] = value instead\n",
      "\n",
      "See the caveats in the documentation: https://pandas.pydata.org/pandas-docs/stable/user_guide/indexing.html#returning-a-view-versus-a-copy\n",
      "  height[\"height_cm\"] = height[\"height_cm\"].str.extract(r\"(\\d+)\").astype(float)\n"
     ]
    },
    {
     "data": {
      "text/plain": [
       "NOC\n",
       "Finland South Africa                       203.0\n",
       "Hungary Slovakia                           202.0\n",
       "Serbia and Montenegro Spain                200.0\n",
       "Argentina Australia                        199.0\n",
       "Montenegro Serbia Serbia and Montenegro    198.0\n",
       "                                           ...  \n",
       "Hungary Peru                                 NaN\n",
       "India Pakistan                               NaN\n",
       "India Uganda                                 NaN\n",
       "Japan Soviet Union                           NaN\n",
       "North Borneo                                 NaN\n",
       "Name: height_cm, Length: 696, dtype: float64"
      ]
     },
     "execution_count": 29,
     "metadata": {},
     "output_type": "execute_result"
    }
   ],
   "source": [
    "#   define a new table/dataset\n",
    "height = bios[[\"NOC\", \"height_cm\"]]\n",
    "height[\"height_cm\"] = height[\"height_cm\"].str.extract(r\"(\\d+)\").astype(float)\n",
    "height.groupby(\"NOC\")[\"height_cm\"].mean().sort_values(ascending = False)"
   ]
  },
  {
   "cell_type": "code",
   "execution_count": 30,
   "metadata": {},
   "outputs": [],
   "source": [
    " # explore the dataset\n",
    "# homework\n",
    "#find out what NOC is\n",
    "# who got most consecutive medals - most medals in a row for gold silver and bronze in terms of athletes and country\n",
    "# which country has the tallest athletes on average, and are male and female\n",
    "# find the athlete/ with longest continous unbroken streak of medals and in each medal category\n",
    "# e.g for each olympic game who got a medal i.e 5 medals but streak is 3\n",
    "#fix this to return the last 5 strings for born and died doesnt need to be string match\n",
    "# do some charts and graphs\n",
    "\n",
    "# next session - algorithms at a higher level used in data and data science\n",
    "            # - slides and questions\n",
    "              # -build an algorithm\n",
    "# build out an api and deploy it"
   ]
  },
  {
   "cell_type": "code",
   "execution_count": 60,
   "metadata": {},
   "outputs": [
    {
     "name": "stderr",
     "output_type": "stream",
     "text": [
      "/tmp/ipykernel_5551/3767642928.py:2: DtypeWarning: Columns (9) have mixed types. Specify dtype option on import or set low_memory=False.\n",
      "  results = pd.read_csv(\"results.csv\")\n"
     ]
    },
    {
     "data": {
      "text/html": [
       "<div>\n",
       "<style scoped>\n",
       "    .dataframe tbody tr th:only-of-type {\n",
       "        vertical-align: middle;\n",
       "    }\n",
       "\n",
       "    .dataframe tbody tr th {\n",
       "        vertical-align: top;\n",
       "    }\n",
       "\n",
       "    .dataframe thead th {\n",
       "        text-align: right;\n",
       "    }\n",
       "</style>\n",
       "<table border=\"1\" class=\"dataframe\">\n",
       "  <thead>\n",
       "    <tr style=\"text-align: right;\">\n",
       "      <th></th>\n",
       "      <th>Games</th>\n",
       "      <th>Event</th>\n",
       "      <th>Team</th>\n",
       "      <th>Pos</th>\n",
       "      <th>Medal</th>\n",
       "      <th>As</th>\n",
       "      <th>athlete_id</th>\n",
       "      <th>NOC</th>\n",
       "      <th>Discipline</th>\n",
       "      <th>Nationality</th>\n",
       "      <th>Unnamed: 7</th>\n",
       "    </tr>\n",
       "  </thead>\n",
       "  <tbody>\n",
       "    <tr>\n",
       "      <th>202538</th>\n",
       "      <td>2004 Summer Olympics</td>\n",
       "      <td>Light-Heavyweight, Men (Olympic)</td>\n",
       "      <td>NaN</td>\n",
       "      <td>DNF</td>\n",
       "      <td>NaN</td>\n",
       "      <td>Valeriu Calancea</td>\n",
       "      <td>94757</td>\n",
       "      <td>ROU</td>\n",
       "      <td>Weightlifting</td>\n",
       "      <td>NaN</td>\n",
       "      <td>NaN</td>\n",
       "    </tr>\n",
       "    <tr>\n",
       "      <th>165825</th>\n",
       "      <td>1996 Summer Olympics</td>\n",
       "      <td>Marathon, Men (Olympic)</td>\n",
       "      <td>NaN</td>\n",
       "      <td>59.0</td>\n",
       "      <td>NaN</td>\n",
       "      <td>Rubén Maza</td>\n",
       "      <td>79281</td>\n",
       "      <td>VEN</td>\n",
       "      <td>Athletics</td>\n",
       "      <td>NaN</td>\n",
       "      <td>NaN</td>\n",
       "    </tr>\n",
       "    <tr>\n",
       "      <th>152919</th>\n",
       "      <td>1928 Summer Olympics</td>\n",
       "      <td>5,000 metres, Men (Olympic)</td>\n",
       "      <td>NaN</td>\n",
       "      <td>7.0</td>\n",
       "      <td>NaN</td>\n",
       "      <td>Staņislavs Petkevičs</td>\n",
       "      <td>73093</td>\n",
       "      <td>LAT</td>\n",
       "      <td>Athletics</td>\n",
       "      <td>NaN</td>\n",
       "      <td>NaN</td>\n",
       "    </tr>\n",
       "    <tr>\n",
       "      <th>14618</th>\n",
       "      <td>1984 Summer Olympics</td>\n",
       "      <td>Kayak Fours, 1,000 metres, Men (Olympic)</td>\n",
       "      <td>Spain</td>\n",
       "      <td>6.0</td>\n",
       "      <td>NaN</td>\n",
       "      <td>Iván González</td>\n",
       "      <td>9490</td>\n",
       "      <td>ESP</td>\n",
       "      <td>Canoe Sprint (Canoeing)</td>\n",
       "      <td>NaN</td>\n",
       "      <td>NaN</td>\n",
       "    </tr>\n",
       "  </tbody>\n",
       "</table>\n",
       "</div>"
      ],
      "text/plain": [
       "                       Games                                     Event   Team  \\\n",
       "202538  2004 Summer Olympics          Light-Heavyweight, Men (Olympic)    NaN   \n",
       "165825  1996 Summer Olympics                   Marathon, Men (Olympic)    NaN   \n",
       "152919  1928 Summer Olympics               5,000 metres, Men (Olympic)    NaN   \n",
       "14618   1984 Summer Olympics  Kayak Fours, 1,000 metres, Men (Olympic)  Spain   \n",
       "\n",
       "         Pos Medal                    As  athlete_id  NOC  \\\n",
       "202538   DNF   NaN      Valeriu Calancea       94757  ROU   \n",
       "165825  59.0   NaN            Rubén Maza       79281  VEN   \n",
       "152919   7.0   NaN  Staņislavs Petkevičs       73093  LAT   \n",
       "14618    6.0   NaN         Iván González        9490  ESP   \n",
       "\n",
       "                     Discipline Nationality  Unnamed: 7  \n",
       "202538            Weightlifting         NaN         NaN  \n",
       "165825                Athletics         NaN         NaN  \n",
       "152919                Athletics         NaN         NaN  \n",
       "14618   Canoe Sprint (Canoeing)         NaN         NaN  "
      ]
     },
     "execution_count": 60,
     "metadata": {},
     "output_type": "execute_result"
    }
   ],
   "source": [
    "# countries with the most medals\n",
    "results = pd.read_csv(\"results.csv\")\n",
    "\n",
    "results.sample(4)"
   ]
  },
  {
   "cell_type": "code",
   "execution_count": 76,
   "metadata": {},
   "outputs": [
    {
     "data": {
      "text/plain": [
       "Index(['Roles', 'Sex', 'Full name', 'Used name', 'Born', 'Died', 'NOC',\n",
       "       'athlete_id', 'Measurements', 'Affiliations', 'Nick/petnames',\n",
       "       'Title(s)', 'Other names', 'Nationality', 'Original name', 'Name order',\n",
       "       'Role 1', 'Role 2', 'Role 3', 'Role 4', 'Role 5', 'height_cm',\n",
       "       'weight_kg', 'born_date', 'died_date'],\n",
       "      dtype='object')"
      ]
     },
     "execution_count": 76,
     "metadata": {},
     "output_type": "execute_result"
    }
   ],
   "source": [
    "bios.columns"
   ]
  },
  {
   "cell_type": "code",
   "execution_count": 54,
   "metadata": {},
   "outputs": [
    {
     "data": {
      "text/plain": [
       "Index(['Games', 'Event', 'Team', 'Pos', 'Medal', 'As', 'athlete_id', 'NOC',\n",
       "       'Discipline', 'Nationality'],\n",
       "      dtype='object')"
      ]
     },
     "execution_count": 54,
     "metadata": {},
     "output_type": "execute_result"
    }
   ],
   "source": [
    "results = results.drop(columns = [\"Unnamed: 7\"])\n",
    "results.columns"
   ]
  },
  {
   "cell_type": "code",
   "execution_count": 77,
   "metadata": {},
   "outputs": [
    {
     "data": {
      "text/plain": [
       "array(['1912 Summer Olympics', '1920 Summer Olympics',\n",
       "       '1996 Summer Olympics', '1924 Summer Olympics',\n",
       "       '1992 Summer Olympics', '2000 Summer Olympics',\n",
       "       '2004 Summer Olympics', '2008 Summer Olympics',\n",
       "       '1900 Summer Olympics', '1906 Intercalated Games',\n",
       "       '1908 Summer Olympics', '1896 Summer Olympics',\n",
       "       '1984 Summer Olympics', '1988 Summer Olympics',\n",
       "       '1904 Summer Olympics', '2012 Summer Olympics',\n",
       "       '2016 Summer Olympics', '1976 Summer Olympics',\n",
       "       '1972 Summer Olympics', '1980 Summer Olympics',\n",
       "       '1928 Summer Olympics', '2020 Summer Olympics',\n",
       "       '1968 Summer Olympics', '1956 Summer Olympics',\n",
       "       '1952 Summer Olympics', '1960 Summer Olympics',\n",
       "       '1964 Summer Olympics', '1948 Summer Olympics',\n",
       "       '1932 Summer Olympics', '1936 Summer Olympics',\n",
       "       '1932 Winter Olympics', '1956 Equestrian Olympics',\n",
       "       '1948 Winter Olympics', '1924 Winter Olympics',\n",
       "       '1928 Winter Olympics', '2002 Winter Olympics',\n",
       "       '2006 Winter Olympics', '2010 Winter Olympics',\n",
       "       '1964 Winter Olympics', '1952 Winter Olympics',\n",
       "       '1936 Winter Olympics', '1992 Winter Olympics',\n",
       "       '1994 Winter Olympics', '1998 Winter Olympics',\n",
       "       '1956 Winter Olympics', '1888-89 Zappas Olympic Games',\n",
       "       '1988 Winter Olympics', '1976 Winter Olympics',\n",
       "       '1972 Winter Olympics', '1984 Winter Olympics',\n",
       "       '1980 Winter Olympics', '1968 Winter Olympics',\n",
       "       '1960 Winter Olympics', '2014 Winter Olympics',\n",
       "       '2018 Winter Olympics', '2022 Winter Olympics',\n",
       "       '2010 Summer Youth Olympics', '2014 Summer Youth Olympics',\n",
       "       '2012 Winter Youth Olympics', '2016 Winter Youth Olympics',\n",
       "       '2018 Summer Youth Olympics', '2020 Winter Youth Olympics'],\n",
       "      dtype=object)"
      ]
     },
     "execution_count": 77,
     "metadata": {},
     "output_type": "execute_result"
    }
   ],
   "source": [
    "results[\"Games\"].unique()"
   ]
  },
  {
   "cell_type": "code",
   "execution_count": 65,
   "metadata": {},
   "outputs": [
    {
     "data": {
      "text/plain": [
       "NOC\n",
       "USA    5995\n",
       "URS    2480\n",
       "GER    2399\n",
       "GBR    2199\n",
       "FRA    2009\n",
       "       ... \n",
       "GEQ       0\n",
       "GUI       0\n",
       "GUM       0\n",
       "PNG       0\n",
       "LAO       0\n",
       "Name: Medal, Length: 230, dtype: int64"
      ]
     },
     "execution_count": 65,
     "metadata": {},
     "output_type": "execute_result"
    }
   ],
   "source": [
    "results.groupby(\"NOC\")[\"Medal\"].count().sort_values(ascending = False)"
   ]
  },
  {
   "cell_type": "code",
   "execution_count": 73,
   "metadata": {},
   "outputs": [
    {
     "data": {
      "text/plain": [
       "Text(0, 0.5, '')"
      ]
     },
     "execution_count": 73,
     "metadata": {},
     "output_type": "execute_result"
    },
    {
     "data": {
      "image/png": "[encoded data removed]",
      "text/plain": [
       "<Figure size 640x480 with 1 Axes>"
      ]
     },
     "metadata": {},
     "output_type": "display_data"
    }
   ],
   "source": [
    "import matplotlib.pyplot as plt\n",
    "\n",
    "gender_dist = bios[\"Sex\"].value_counts()\n",
    "\n",
    "gender_dist.plot(kind = \"pie\", autopct = \"%1.1f%%\")\n",
    "plt.title(\"Gender distribution of athletes\")\n",
    "plt.xlabel(\"\")\n",
    "plt.ylabel(\"\")"
   ]
  },
  {
   "cell_type": "code",
   "execution_count": 75,
   "metadata": {},
   "outputs": [
    {
     "name": "stderr",
     "output_type": "stream",
     "text": [
      "/tmp/ipykernel_5551/218446758.py:3: FutureWarning: \n",
      "\n",
      "Passing `palette` without assigning `hue` is deprecated and will be removed in v0.14.0. Assign the `x` variable to `hue` and set `legend=False` for the same effect.\n",
      "\n",
      "  sns.countplot(x = \"Sex\", data = bios, palette = \"pastel\")\n"
     ]
    },
    {
     "data": {
      "text/plain": [
       "Text(0, 0.5, '')"
      ]
     },
     "execution_count": 75,
     "metadata": {},
     "output_type": "execute_result"
    },
    {
     "data": {
      "image/png": "[encoded data removed]",
      "text/plain": [
       "<Figure size 640x480 with 1 Axes>"
      ]
     },
     "metadata": {},
     "output_type": "display_data"
    }
   ],
   "source": [
    "import seaborn as sns\n",
    "\n",
    "sns.countplot(x = \"Sex\", data = bios, palette = \"pastel\")\n",
    "plt.title(\"Bar chart Gender distribution of athletes\")\n",
    "plt.xlabel(\"\")\n",
    "plt.ylabel(\"\")"
   ]
  },
  {
   "cell_type": "code",
   "execution_count": 81,
   "metadata": {},
   "outputs": [
    {
     "data": {
      "text/html": [
       "<div>\n",
       "<style scoped>\n",
       "    .dataframe tbody tr th:only-of-type {\n",
       "        vertical-align: middle;\n",
       "    }\n",
       "\n",
       "    .dataframe tbody tr th {\n",
       "        vertical-align: top;\n",
       "    }\n",
       "\n",
       "    .dataframe thead th {\n",
       "        text-align: right;\n",
       "    }\n",
       "</style>\n",
       "<table border=\"1\" class=\"dataframe\">\n",
       "  <thead>\n",
       "    <tr style=\"text-align: right;\">\n",
       "      <th></th>\n",
       "      <th>athlete_id</th>\n",
       "      <th>Full name</th>\n",
       "      <th>NOC</th>\n",
       "      <th>Medal</th>\n",
       "      <th>Games</th>\n",
       "    </tr>\n",
       "  </thead>\n",
       "  <tbody>\n",
       "    <tr>\n",
       "      <th>0</th>\n",
       "      <td>1</td>\n",
       "      <td>François Joseph Marie Antoine \"Jean-François\"•...</td>\n",
       "      <td>France</td>\n",
       "      <td>NaN</td>\n",
       "      <td>1912 Summer Olympics</td>\n",
       "    </tr>\n",
       "    <tr>\n",
       "      <th>1</th>\n",
       "      <td>1</td>\n",
       "      <td>François Joseph Marie Antoine \"Jean-François\"•...</td>\n",
       "      <td>France</td>\n",
       "      <td>NaN</td>\n",
       "      <td>1912 Summer Olympics</td>\n",
       "    </tr>\n",
       "    <tr>\n",
       "      <th>2</th>\n",
       "      <td>1</td>\n",
       "      <td>François Joseph Marie Antoine \"Jean-François\"•...</td>\n",
       "      <td>France</td>\n",
       "      <td>NaN</td>\n",
       "      <td>1920 Summer Olympics</td>\n",
       "    </tr>\n",
       "    <tr>\n",
       "      <th>3</th>\n",
       "      <td>1</td>\n",
       "      <td>François Joseph Marie Antoine \"Jean-François\"•...</td>\n",
       "      <td>France</td>\n",
       "      <td>NaN</td>\n",
       "      <td>1920 Summer Olympics</td>\n",
       "    </tr>\n",
       "    <tr>\n",
       "      <th>4</th>\n",
       "      <td>1</td>\n",
       "      <td>François Joseph Marie Antoine \"Jean-François\"•...</td>\n",
       "      <td>France</td>\n",
       "      <td>NaN</td>\n",
       "      <td>1920 Summer Olympics</td>\n",
       "    </tr>\n",
       "    <tr>\n",
       "      <th>...</th>\n",
       "      <td>...</td>\n",
       "      <td>...</td>\n",
       "      <td>...</td>\n",
       "      <td>...</td>\n",
       "      <td>...</td>\n",
       "    </tr>\n",
       "    <tr>\n",
       "      <th>308403</th>\n",
       "      <td>148983</td>\n",
       "      <td>Marián•Skupek</td>\n",
       "      <td>Slovakia</td>\n",
       "      <td>NaN</td>\n",
       "      <td>2022 Winter Olympics</td>\n",
       "    </tr>\n",
       "    <tr>\n",
       "      <th>308404</th>\n",
       "      <td>148984</td>\n",
       "      <td>Elsa Lisa•Fermbäck (-Håkansson Fermbäck-)</td>\n",
       "      <td>Sweden</td>\n",
       "      <td>NaN</td>\n",
       "      <td>2022 Winter Olympics</td>\n",
       "    </tr>\n",
       "    <tr>\n",
       "      <th>308405</th>\n",
       "      <td>148985</td>\n",
       "      <td>Hilma Linnea•Lövblom</td>\n",
       "      <td>Sweden</td>\n",
       "      <td>NaN</td>\n",
       "      <td>2022 Winter Olympics</td>\n",
       "    </tr>\n",
       "    <tr>\n",
       "      <th>308406</th>\n",
       "      <td>148985</td>\n",
       "      <td>Hilma Linnea•Lövblom</td>\n",
       "      <td>Sweden</td>\n",
       "      <td>NaN</td>\n",
       "      <td>2022 Winter Olympics</td>\n",
       "    </tr>\n",
       "    <tr>\n",
       "      <th>308407</th>\n",
       "      <td>148986</td>\n",
       "      <td>Maria Charlotta•Säfvenberg</td>\n",
       "      <td>Sweden</td>\n",
       "      <td>NaN</td>\n",
       "      <td>2022 Winter Olympics</td>\n",
       "    </tr>\n",
       "  </tbody>\n",
       "</table>\n",
       "<p>308408 rows × 5 columns</p>\n",
       "</div>"
      ],
      "text/plain": [
       "        athlete_id                                          Full name  \\\n",
       "0                1  François Joseph Marie Antoine \"Jean-François\"•...   \n",
       "1                1  François Joseph Marie Antoine \"Jean-François\"•...   \n",
       "2                1  François Joseph Marie Antoine \"Jean-François\"•...   \n",
       "3                1  François Joseph Marie Antoine \"Jean-François\"•...   \n",
       "4                1  François Joseph Marie Antoine \"Jean-François\"•...   \n",
       "...            ...                                                ...   \n",
       "308403      148983                                      Marián•Skupek   \n",
       "308404      148984          Elsa Lisa•Fermbäck (-Håkansson Fermbäck-)   \n",
       "308405      148985                               Hilma Linnea•Lövblom   \n",
       "308406      148985                               Hilma Linnea•Lövblom   \n",
       "308407      148986                         Maria Charlotta•Säfvenberg   \n",
       "\n",
       "             NOC Medal                 Games  \n",
       "0         France   NaN  1912 Summer Olympics  \n",
       "1         France   NaN  1912 Summer Olympics  \n",
       "2         France   NaN  1920 Summer Olympics  \n",
       "3         France   NaN  1920 Summer Olympics  \n",
       "4         France   NaN  1920 Summer Olympics  \n",
       "...          ...   ...                   ...  \n",
       "308403  Slovakia   NaN  2022 Winter Olympics  \n",
       "308404    Sweden   NaN  2022 Winter Olympics  \n",
       "308405    Sweden   NaN  2022 Winter Olympics  \n",
       "308406    Sweden   NaN  2022 Winter Olympics  \n",
       "308407    Sweden   NaN  2022 Winter Olympics  \n",
       "\n",
       "[308408 rows x 5 columns]"
      ]
     },
     "execution_count": 81,
     "metadata": {},
     "output_type": "execute_result"
    }
   ],
   "source": [
    "merged_bios = pd.merge(bios[[\"athlete_id\", \"Full name\", \"NOC\"]], results[[\"athlete_id\", \"Medal\", \"Games\"]], on = \"athlete_id\")\n",
    "merged_bios.sort_values([\"athlete_id\", \"Games\"])\n",
    "\n"
   ]
  },
  {
   "cell_type": "code",
   "execution_count": 102,
   "metadata": {},
   "outputs": [
    {
     "data": {
      "text/html": [
       "<div>\n",
       "<style scoped>\n",
       "    .dataframe tbody tr th:only-of-type {\n",
       "        vertical-align: middle;\n",
       "    }\n",
       "\n",
       "    .dataframe tbody tr th {\n",
       "        vertical-align: top;\n",
       "    }\n",
       "\n",
       "    .dataframe thead th {\n",
       "        text-align: right;\n",
       "    }\n",
       "</style>\n",
       "<table border=\"1\" class=\"dataframe\">\n",
       "  <thead>\n",
       "    <tr style=\"text-align: right;\">\n",
       "      <th>Medal</th>\n",
       "      <th>Bronze</th>\n",
       "      <th>Gold</th>\n",
       "      <th>Silver</th>\n",
       "    </tr>\n",
       "    <tr>\n",
       "      <th>NOC</th>\n",
       "      <th></th>\n",
       "      <th></th>\n",
       "      <th></th>\n",
       "    </tr>\n",
       "  </thead>\n",
       "  <tbody>\n",
       "    <tr>\n",
       "      <th>Georgia Unified Team United States</th>\n",
       "      <td>1</td>\n",
       "      <td>0</td>\n",
       "      <td>0</td>\n",
       "    </tr>\n",
       "    <tr>\n",
       "      <th>Cuba Italy</th>\n",
       "      <td>0</td>\n",
       "      <td>1</td>\n",
       "      <td>0</td>\n",
       "    </tr>\n",
       "    <tr>\n",
       "      <th>Azerbaijan Unified Team</th>\n",
       "      <td>0</td>\n",
       "      <td>1</td>\n",
       "      <td>1</td>\n",
       "    </tr>\n",
       "    <tr>\n",
       "      <th>Slovenia</th>\n",
       "      <td>30</td>\n",
       "      <td>20</td>\n",
       "      <td>27</td>\n",
       "    </tr>\n",
       "    <tr>\n",
       "      <th>Germany South Africa</th>\n",
       "      <td>2</td>\n",
       "      <td>0</td>\n",
       "      <td>0</td>\n",
       "    </tr>\n",
       "  </tbody>\n",
       "</table>\n",
       "</div>"
      ],
      "text/plain": [
       "Medal                               Bronze  Gold  Silver\n",
       "NOC                                                     \n",
       "Georgia Unified Team United States       1     0       0\n",
       "Cuba Italy                               0     1       0\n",
       "Azerbaijan Unified Team                  0     1       1\n",
       "Slovenia                                30    20      27\n",
       "Germany South Africa                     2     0       0"
      ]
     },
     "execution_count": 102,
     "metadata": {},
     "output_type": "execute_result"
    }
   ],
   "source": [
    "# countries with the most consecutive medals\n",
    "\n",
    "country_medals = merged_bios.groupby([\"NOC\", \"Medal\"]).size().unstack(fill_value = 0).sort_values(\"Gold\", ascending = False)\n",
    "country_medals.sample(5)"
   ]
  },
  {
   "cell_type": "markdown",
   "metadata": {},
   "source": []
  },
  {
   "cell_type": "code",
   "execution_count": null,
   "metadata": {},
   "outputs": [],
   "source": []
  },
  {
   "cell_type": "code",
   "execution_count": null,
   "metadata": {},
   "outputs": [],
   "source": []
  },
  {
   "cell_type": "code",
   "execution_count": null,
   "metadata": {},
   "outputs": [],
   "source": []
  },
  {
   "cell_type": "code",
   "execution_count": null,
   "metadata": {},
   "outputs": [],
   "source": []
  },
  {
   "cell_type": "code",
   "execution_count": null,
   "metadata": {},
   "outputs": [],
   "source": []
  },
  {
   "cell_type": "code",
   "execution_count": 31,
   "metadata": {},
   "outputs": [
    {
     "name": "stderr",
     "output_type": "stream",
     "text": [
      "/tmp/ipykernel_5551/2343332020.py:1: DtypeWarning: Columns (9) have mixed types. Specify dtype option on import or set low_memory=False.\n",
      "  result = pd.read_csv(\"results.csv\")\n"
     ]
    },
    {
     "data": {
      "text/html": [
       "<div>\n",
       "<style scoped>\n",
       "    .dataframe tbody tr th:only-of-type {\n",
       "        vertical-align: middle;\n",
       "    }\n",
       "\n",
       "    .dataframe tbody tr th {\n",
       "        vertical-align: top;\n",
       "    }\n",
       "\n",
       "    .dataframe thead th {\n",
       "        text-align: right;\n",
       "    }\n",
       "</style>\n",
       "<table border=\"1\" class=\"dataframe\">\n",
       "  <thead>\n",
       "    <tr style=\"text-align: right;\">\n",
       "      <th></th>\n",
       "      <th>Games</th>\n",
       "      <th>Event</th>\n",
       "      <th>Team</th>\n",
       "      <th>Pos</th>\n",
       "      <th>Medal</th>\n",
       "      <th>As</th>\n",
       "      <th>athlete_id</th>\n",
       "      <th>NOC</th>\n",
       "      <th>Discipline</th>\n",
       "      <th>Nationality</th>\n",
       "      <th>Unnamed: 7</th>\n",
       "    </tr>\n",
       "  </thead>\n",
       "  <tbody>\n",
       "    <tr>\n",
       "      <th>23552</th>\n",
       "      <td>1988 Summer Olympics</td>\n",
       "      <td>Road Race, Individual, Women (Olympic)</td>\n",
       "      <td>NaN</td>\n",
       "      <td>39.0</td>\n",
       "      <td>NaN</td>\n",
       "      <td>Sara Neil</td>\n",
       "      <td>13182</td>\n",
       "      <td>CAN</td>\n",
       "      <td>Cycling Road (Cycling)</td>\n",
       "      <td>NaN</td>\n",
       "      <td>NaN</td>\n",
       "    </tr>\n",
       "    <tr>\n",
       "      <th>238823</th>\n",
       "      <td>2010 Winter Olympics</td>\n",
       "      <td>Downhill, Women (Olympic)</td>\n",
       "      <td>NaN</td>\n",
       "      <td>30</td>\n",
       "      <td>NaN</td>\n",
       "      <td>Jessica Lindell-Vikarby</td>\n",
       "      <td>110349</td>\n",
       "      <td>SWE</td>\n",
       "      <td>Alpine Skiing (Skiing)</td>\n",
       "      <td>NaN</td>\n",
       "      <td>NaN</td>\n",
       "    </tr>\n",
       "    <tr>\n",
       "      <th>150756</th>\n",
       "      <td>1964 Summer Olympics</td>\n",
       "      <td>110 metres Hurdles, Men (Olympic)</td>\n",
       "      <td>NaN</td>\n",
       "      <td>4.0</td>\n",
       "      <td>NaN</td>\n",
       "      <td>Eddy Ottoz</td>\n",
       "      <td>72071</td>\n",
       "      <td>ITA</td>\n",
       "      <td>Athletics</td>\n",
       "      <td>NaN</td>\n",
       "      <td>NaN</td>\n",
       "    </tr>\n",
       "    <tr>\n",
       "      <th>65966</th>\n",
       "      <td>1976 Summer Olympics</td>\n",
       "      <td>Horizontal Bar, Men (Olympic)</td>\n",
       "      <td>NaN</td>\n",
       "      <td>88 r1/1</td>\n",
       "      <td>NaN</td>\n",
       "      <td>Shun Fujimoto</td>\n",
       "      <td>30578</td>\n",
       "      <td>JPN</td>\n",
       "      <td>Artistic Gymnastics (Gymnastics)</td>\n",
       "      <td>NaN</td>\n",
       "      <td>NaN</td>\n",
       "    </tr>\n",
       "  </tbody>\n",
       "</table>\n",
       "</div>"
      ],
      "text/plain": [
       "                       Games                                   Event Team  \\\n",
       "23552   1988 Summer Olympics  Road Race, Individual, Women (Olympic)  NaN   \n",
       "238823  2010 Winter Olympics               Downhill, Women (Olympic)  NaN   \n",
       "150756  1964 Summer Olympics       110 metres Hurdles, Men (Olympic)  NaN   \n",
       "65966   1976 Summer Olympics           Horizontal Bar, Men (Olympic)  NaN   \n",
       "\n",
       "            Pos Medal                       As  athlete_id  NOC  \\\n",
       "23552      39.0   NaN                Sara Neil       13182  CAN   \n",
       "238823       30   NaN  Jessica Lindell-Vikarby      110349  SWE   \n",
       "150756      4.0   NaN               Eddy Ottoz       72071  ITA   \n",
       "65966   88 r1/1   NaN            Shun Fujimoto       30578  JPN   \n",
       "\n",
       "                              Discipline Nationality  Unnamed: 7  \n",
       "23552             Cycling Road (Cycling)         NaN         NaN  \n",
       "238823            Alpine Skiing (Skiing)         NaN         NaN  \n",
       "150756                         Athletics         NaN         NaN  \n",
       "65966   Artistic Gymnastics (Gymnastics)         NaN         NaN  "
      ]
     },
     "execution_count": 31,
     "metadata": {},
     "output_type": "execute_result"
    }
   ],
   "source": [
    "result = pd.read_csv(\"results.csv\")\n",
    "result.sample(4)"
   ]
  },
  {
   "cell_type": "code",
   "execution_count": 32,
   "metadata": {},
   "outputs": [
    {
     "data": {
      "text/plain": [
       "Index(['Games', 'Event', 'Team', 'Pos', 'Medal', 'As', 'athlete_id', 'NOC',\n",
       "       'Discipline', 'Nationality', 'Unnamed: 7'],\n",
       "      dtype='object')"
      ]
     },
     "execution_count": 32,
     "metadata": {},
     "output_type": "execute_result"
    }
   ],
   "source": [
    "result.columns"
   ]
  },
  {
   "cell_type": "code",
   "execution_count": 33,
   "metadata": {},
   "outputs": [
    {
     "data": {
      "text/plain": [
       "Index(['Roles', 'Sex', 'Full name', 'Used name', 'Born', 'Died', 'NOC',\n",
       "       'athlete_id', 'Measurements', 'Affiliations', 'Nick/petnames',\n",
       "       'Title(s)', 'Other names', 'Nationality', 'Original name', 'Name order',\n",
       "       'Role 1', 'Role 2', 'Role 3', 'Role 4', 'Role 5', 'height_cm',\n",
       "       'weight_kg', 'born_date', 'died_date'],\n",
       "      dtype='object')"
      ]
     },
     "execution_count": 33,
     "metadata": {},
     "output_type": "execute_result"
    }
   ],
   "source": [
    "bios.columns"
   ]
  },
  {
   "cell_type": "code",
   "execution_count": 34,
   "metadata": {},
   "outputs": [
    {
     "data": {
      "text/plain": [
       "array([nan, 'Bronze', 'Silver', 'Gold'], dtype=object)"
      ]
     },
     "execution_count": 34,
     "metadata": {},
     "output_type": "execute_result"
    }
   ],
   "source": [
    "result[\"Medal\"].unique()"
   ]
  },
  {
   "cell_type": "code",
   "execution_count": 35,
   "metadata": {},
   "outputs": [
    {
     "data": {
      "text/plain": [
       "NOC\n",
       "USA    21353\n",
       "FRA    14276\n",
       "GBR    13170\n",
       "ITA    12129\n",
       "CAN    11455\n",
       "       ...  \n",
       "YAR       12\n",
       "TUV        9\n",
       "SSD        5\n",
       "YMD        5\n",
       "NBO        3\n",
       "Name: Games, Length: 230, dtype: int64"
      ]
     },
     "execution_count": 35,
     "metadata": {},
     "output_type": "execute_result"
    }
   ],
   "source": [
    "result.groupby(\"NOC\")[\"Games\"].count().sort_values(ascending = False)"
   ]
  },
  {
   "cell_type": "code",
   "execution_count": 36,
   "metadata": {},
   "outputs": [],
   "source": [
    "merged_df = pd.merge(bios[[\"athlete_id\", \"Full name\", \"NOC\"]], result[[\"athlete_id\", \"Medal\", \"Games\"]], on = \"athlete_id\")\n"
   ]
  },
  {
   "cell_type": "code",
   "execution_count": 38,
   "metadata": {},
   "outputs": [],
   "source": [
    "# merged_df.groupby([\"Full name\", \"Medal\"]).size().unstack(fill_value = 0).value_counts()\n",
    "# merged_df.sample(10)\n",
    "# merged_df.columns\n",
    "\n",
    "# def find_consecutive_medals(df):\n",
    "#     merged_df['streak_rank'] = merged_df.groupby(['athlete_id']).cumcount()\n",
    "\n",
    "#     athlete_max_streak = merged_df.groupby('athlete_id')['streak_rank'].max()\n",
    "#     athlete_max_streak = athlete_max_streak.idxmax()\n",
    "\n",
    "\n",
    "#     country_max_streak = merged_df.groupby('NOC')['streak_rank'].max()\n",
    "#     country_max_streak = country_max_streak.idxmax()\n",
    "\n",
    "# streaks = merged_df.groupby(['athlete_id', 'Full name', 'NOC']).apply(find_consecutive_medals).reset_index(name='Max Streak')\n",
    "# longest_streak_athletes = streaks.sort_values(by = \"Max Streak\", ascending = False)\n",
    "# longest_streak_athletes"
   ]
  },
  {
   "cell_type": "code",
   "execution_count": null,
   "metadata": {},
   "outputs": [],
   "source": []
  },
  {
   "cell_type": "code",
   "execution_count": 39,
   "metadata": {},
   "outputs": [
    {
     "data": {
      "text/html": [
       "<div>\n",
       "<style scoped>\n",
       "    .dataframe tbody tr th:only-of-type {\n",
       "        vertical-align: middle;\n",
       "    }\n",
       "\n",
       "    .dataframe tbody tr th {\n",
       "        vertical-align: top;\n",
       "    }\n",
       "\n",
       "    .dataframe thead th {\n",
       "        text-align: right;\n",
       "    }\n",
       "</style>\n",
       "<table border=\"1\" class=\"dataframe\">\n",
       "  <thead>\n",
       "    <tr style=\"text-align: right;\">\n",
       "      <th>Medal</th>\n",
       "      <th>Bronze</th>\n",
       "      <th>Gold</th>\n",
       "      <th>Silver</th>\n",
       "    </tr>\n",
       "    <tr>\n",
       "      <th>NOC</th>\n",
       "      <th></th>\n",
       "      <th></th>\n",
       "      <th></th>\n",
       "    </tr>\n",
       "  </thead>\n",
       "  <tbody>\n",
       "    <tr>\n",
       "      <th>USA</th>\n",
       "      <td>1472</td>\n",
       "      <td>2717</td>\n",
       "      <td>1806</td>\n",
       "    </tr>\n",
       "    <tr>\n",
       "      <th>URS</th>\n",
       "      <td>680</td>\n",
       "      <td>1076</td>\n",
       "      <td>724</td>\n",
       "    </tr>\n",
       "    <tr>\n",
       "      <th>GER</th>\n",
       "      <td>810</td>\n",
       "      <td>817</td>\n",
       "      <td>772</td>\n",
       "    </tr>\n",
       "    <tr>\n",
       "      <th>GBR</th>\n",
       "      <td>720</td>\n",
       "      <td>715</td>\n",
       "      <td>764</td>\n",
       "    </tr>\n",
       "    <tr>\n",
       "      <th>ITA</th>\n",
       "      <td>593</td>\n",
       "      <td>605</td>\n",
       "      <td>566</td>\n",
       "    </tr>\n",
       "  </tbody>\n",
       "</table>\n",
       "</div>"
      ],
      "text/plain": [
       "Medal  Bronze  Gold  Silver\n",
       "NOC                        \n",
       "USA      1472  2717    1806\n",
       "URS       680  1076     724\n",
       "GER       810   817     772\n",
       "GBR       720   715     764\n",
       "ITA       593   605     566"
      ]
     },
     "execution_count": 39,
     "metadata": {},
     "output_type": "execute_result"
    }
   ],
   "source": [
    "# countries with the most consecutive medals\n",
    "\n",
    "country_streaks = result.groupby([\"NOC\", \"Medal\"]).size().unstack(fill_value = 0).sort_values(\"Gold\", ascending = False)\n",
    "country_streaks.head(5)"
   ]
  },
  {
   "cell_type": "code",
   "execution_count": 40,
   "metadata": {},
   "outputs": [
    {
     "data": {
      "image/png": "[encoded data removed]",
      "text/plain": [
       "<Figure size 640x480 with 1 Axes>"
      ]
     },
     "metadata": {},
     "output_type": "display_data"
    }
   ],
   "source": [
    "import matplotlib.pyplot as plt\n",
    "# gender distriibution\n",
    "gender_dist = bios[\"Sex\"].value_counts()\n",
    "gender_dist.plot(kind = \"pie\", autopct = \"%1.1f%%\")\n",
    "plt.title(\"Gender distribution by athlete\")\n",
    "plt.ylabel(\"\")\n",
    "plt.show()"
   ]
  },
  {
   "cell_type": "code",
   "execution_count": 41,
   "metadata": {},
   "outputs": [
    {
     "data": {
      "image/png": "[encoded data removed]",
      "text/plain": [
       "<Figure size 640x480 with 1 Axes>"
      ]
     },
     "metadata": {},
     "output_type": "display_data"
    }
   ],
   "source": [
    "import seaborn as sns\n",
    "sns.countplot(x = \"Sex\", data = bios)\n",
    "plt.title(\"Gender distribution by athlete\")\n",
    "plt.xlabel(\"Gender\")\n",
    "plt.ylabel(\"no. of athletes\")\n",
    "plt.show()"
   ]
  },
  {
   "cell_type": "code",
   "execution_count": 43,
   "metadata": {},
   "outputs": [
    {
     "ename": "TypeError",
     "evalue": "bar() missing 1 required positional argument: 'height'",
     "output_type": "error",
     "traceback": [
      "\u001b[0;31m---------------------------------------------------------------------------\u001b[0m",
      "\u001b[0;31mTypeError\u001b[0m                                 Traceback (most recent call last)",
      "Cell \u001b[0;32mIn[43], line 1\u001b[0m\n\u001b[0;32m----> 1\u001b[0m \u001b[43mplt\u001b[49m\u001b[38;5;241;43m.\u001b[39;49m\u001b[43mbar\u001b[49m\u001b[43m(\u001b[49m\u001b[43mx\u001b[49m\u001b[43m \u001b[49m\u001b[38;5;241;43m=\u001b[39;49m\u001b[43m \u001b[49m\u001b[38;5;124;43m\"\u001b[39;49m\u001b[38;5;124;43mSex\u001b[39;49m\u001b[38;5;124;43m\"\u001b[39;49m\u001b[43m,\u001b[49m\u001b[43m \u001b[49m\u001b[43my\u001b[49m\u001b[43m \u001b[49m\u001b[38;5;241;43m=\u001b[39;49m\u001b[43m \u001b[49m\u001b[38;5;124;43m\"\u001b[39;49m\u001b[38;5;124;43mathlete_id\u001b[39;49m\u001b[38;5;124;43m\"\u001b[39;49m\u001b[43m)\u001b[49m\n\u001b[1;32m      2\u001b[0m plt\u001b[38;5;241m.\u001b[39mtitle(\u001b[38;5;124m\"\u001b[39m\u001b[38;5;124mGender distribution by athlete\u001b[39m\u001b[38;5;124m\"\u001b[39m)\n\u001b[1;32m      3\u001b[0m plt\u001b[38;5;241m.\u001b[39mxlabel(\u001b[38;5;124m\"\u001b[39m\u001b[38;5;124mGender\u001b[39m\u001b[38;5;124m\"\u001b[39m)\n",
      "\u001b[0;31mTypeError\u001b[0m: bar() missing 1 required positional argument: 'height'"
     ]
    }
   ],
   "source": [
    "plt.bar(x = \"Sex\", y = \"athlete_id\")\n",
    "plt.title(\"Gender distribution by athlete\")\n",
    "plt.xlabel(\"Gender\")\n",
    "plt.ylabel(\"no. of athletes\")\n",
    "plt.show()"
   ]
  },
  {
   "cell_type": "code",
   "execution_count": null,
   "metadata": {},
   "outputs": [],
   "source": []
  }
 ],
 "metadata": {
  "kernelspec": {
   "display_name": "hit",
   "language": "python",
   "name": "python3"
  },
  "language_info": {
   "codemirror_mode": {
    "name": "ipython",
    "version": 3
   },
   "file_extension": ".py",
   "mimetype": "text/x-python",
   "name": "python",
   "nbconvert_exporter": "python",
   "pygments_lexer": "ipython3",
   "version": "3.8.10"
  }
 },
 "nbformat": 4,
 "nbformat_minor": 2
}
